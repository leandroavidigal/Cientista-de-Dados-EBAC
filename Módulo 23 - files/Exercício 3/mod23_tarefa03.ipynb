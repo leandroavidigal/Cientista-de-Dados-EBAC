{
 "cells": [
  {
   "cell_type": "markdown",
   "id": "37de8da3-f4ee-4d5d-bb28-c2a40619c356",
   "metadata": {},
   "source": [
    "### **Módulo 23** | Combinação de modelos I | Exercício 3\n",
    "\n",
    "---"
   ]
  },
  {
   "cell_type": "markdown",
   "id": "3cde7335-8392-4e86-a3ef-ea2f7a8ba94f",
   "metadata": {},
   "source": [
    "### Tarefa 03"
   ]
  },
  {
   "cell_type": "markdown",
   "id": "ec7d086d-c526-4419-862f-c9a94006fc77",
   "metadata": {},
   "source": [
    "**1.** Quais são os hyperparâmetros do RF?"
   ]
  },
  {
   "cell_type": "markdown",
   "id": "bfb83957-3808-4bdb-9630-733cd3f4fb8f",
   "metadata": {},
   "source": [
    "> Os hyperparâmetros do algoritmo ***Random Forest*** são:\n",
    ">\n",
    "> - n_estimators\n",
    "> - criterion\n",
    "> - max_depth\n",
    "> - min_samples_split\n",
    "> - min_samples_leaf\n",
    "> - min_weight_fraction_leaf\n",
    "> - max_features\n",
    "> - max_leaf_nodes\n",
    "> - min_impurity_decrease\n",
    "> - bootstrap\n",
    "> - oob_score\n",
    "> - n_jobs\n",
    "> - random_state\n",
    "> - verbose\n",
    "> - warm_start\n",
    "> - class_weight\n",
    "> - ccp_alpha\n",
    "> - max_samples"
   ]
  },
  {
   "cell_type": "markdown",
   "id": "1963e124-b386-45a9-bfd6-751155d8a065",
   "metadata": {},
   "source": [
    "**2.** Pra que serve cada um deles?"
   ]
  },
  {
   "cell_type": "markdown",
   "id": "9b35bf22-f6b7-43f8-9ec3-ff65d16fb644",
   "metadata": {},
   "source": [
    "- **n_estimators**: Define o número de árvores de decisão no ensemble. Cada árvore é gerada a partir de uma amostra do conjunto de dados, selecionada com reposição (Bootstrap), contribuindo para a diversidade no modelo.\n",
    "\n",
    "- **criterion**: A métrica utilizada para avaliar a qualidade das divisões nas árvores, influenciando como as árvores crescem e se adaptam aos dados.\n",
    "\n",
    "- **max_depth**: Estabelece um limite para a profundidade das árvores, controlando a complexidade do modelo e ajudando a prevenir o overfitting.\n",
    "\n",
    "- **min_samples_split**: O requisito mínimo de amostras que um nó deve ter para ser dividido, afetando diretamente a granularidade da árvore.\n",
    "\n",
    "- **min_samples_leaf**: O número mínimo de amostras que um nó folha deve ter. Esse parâmetro ajuda a garantir que cada folha tenha um número suficiente de dados para fazer uma previsão confiável.\n",
    "\n",
    "- **min_weight_fraction_leaf**: Estabelece o \"peso\" mínimo (ou importância) que uma folha deve ter, baseado em uma fração decimal, para ser considerada no modelo.\n",
    "\n",
    "- **max_features**: Limita o número de variáveis consideradas para a divisão em cada nó, promovendo a diversidade entre as árvores e contribuindo para a redução da correlação entre elas.\n",
    "\n",
    "- **max_leaf_nodes**: Define um limite para o número de nós folha, controlando o tamanho e a complexidade das árvores.\n",
    "\n",
    "- **min_impurity_decrease**: Um limiar para a redução mínima de impureza necessária para realizar uma divisão, influenciando a decisão de continuar ou não a subdividir os nós.\n",
    "\n",
    "- **bootstrap**: Indica se as amostras Bootstrap serão utilizadas na construção das árvores, um elemento chave na formação de conjuntos diversificados.\n",
    "\n",
    "- **oob_score**: Ativa a avaliação out-of-bag, uma técnica que utiliza as amostras não selecionadas pelo Bootstrap para estimar a precisão do modelo.\n",
    "\n",
    "- **n_jobs**: Permite a execução paralela de processos, aumentando a eficiência do treinamento ao distribuir o trabalho por múltiplos núcleos de processamento.\n",
    "\n",
    "- **random_state**: Um seed para a geração de números aleatórios, assegurando a reprodutibilidade dos resultados ao manter constante a aleatoriedade dos processos de Bootstrap e seleção de variáveis.\n",
    "\n",
    "- **verbose**: Ajusta o nível de mensagens emitidas durante o treinamento e as previsões, facilitando o acompanhamento do processo de modelagem.\n",
    "\n",
    "- **warm_start**: Permite a adição incremental de árvores ao modelo existente, reutilizando o treinamento anterior para economizar tempo e recursos.\n",
    "\n",
    "- **class_weight**: Ajusta o peso atribuído a cada classe, buscando equilibrar a influência de classes desbalanceadas na modelagem.\n",
    "\n",
    "- **ccp_alpha**: Um parâmetro de complexidade utilizado para a pós-poda das árvores, onde valores maiores levam a uma maior redução da complexidade do modelo.\n",
    "\n",
    "- **max_samples**: Limita o número de amostras utilizadas para treinar cada árvore sob o método Bootstrap, influenciando diretamente a diversidade e o desempenho do modelo."
   ]
  },
  {
   "cell_type": "markdown",
   "id": "b671374a-ffb2-4f2d-8609-8dbdde81d4fa",
   "metadata": {},
   "source": [
    "---"
   ]
  }
 ],
 "metadata": {
  "kernelspec": {
   "display_name": "Python 3 (ipykernel)",
   "language": "python",
   "name": "python3"
  },
  "language_info": {
   "codemirror_mode": {
    "name": "ipython",
    "version": 3
   },
   "file_extension": ".py",
   "mimetype": "text/x-python",
   "name": "python",
   "nbconvert_exporter": "python",
   "pygments_lexer": "ipython3",
   "version": "3.9.12"
  }
 },
 "nbformat": 4,
 "nbformat_minor": 5
}

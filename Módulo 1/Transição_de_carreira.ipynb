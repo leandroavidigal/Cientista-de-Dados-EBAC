{
  "nbformat": 4,
  "nbformat_minor": 0,
  "metadata": {
    "colab": {
      "provenance": [],
      "toc_visible": true
    },
    "kernelspec": {
      "name": "python3",
      "display_name": "Python 3"
    },
    "language_info": {
      "name": "python"
    }
  },
  "cells": [
    {
      "cell_type": "markdown",
      "source": [
        "#### **Ciência de Dados e minha área de atuação**"
      ],
      "metadata": {
        "id": "t4tit0WP8ky5"
      }
    },
    {
      "cell_type": "markdown",
      "source": [
        "Sou engenheiro de controle e automação há 9 anos e estou em transição de carreira por acreditar que a ciência de dados irá ajudar a melhorar a vida de todos e que eu quero fazer parte desta revolução tecnológica. Vejo o quão importante é termos previsões adequadas para tomar melhores decisões em diversos setores da indústria, incluindo a engenharia mecânica.\n",
        "\n",
        "Normalmente utilizamos o benchmark como ferramenta para processos como design de hardware, controle de máquinas, etc., o que não facilita a tomada de decisões projetadas para o futuro. A Ciência de Dados entra com uma solução para facilitar previsões sobre os projetos, fornecendo uma maneira de fazer atualizações on-line com visualizações e análises relevantes para o desempenho de milhares de fatores, incluindo equipamentos, peças, condições ambientais, etc.\n",
        "\n",
        "Com isso, a ciência de dados pode ser empregada em diversas aplicações na engenharia mecânica, como biomecânica, robótica, engenharia de controle e mecânica dos sólidos. Acredito que a combinação da minha formação em engenharia de controle e automação com a expertise em ciência de dados pode trazer soluções ainda mais eficazes e inovadoras para os desafios da indústria mecânica."
      ],
      "metadata": {
        "id": "crYlBY5f8o9E"
      }
    }
  ]
}
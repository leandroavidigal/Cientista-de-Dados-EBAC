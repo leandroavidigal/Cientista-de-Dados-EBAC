{
 "cells": [
  {
   "cell_type": "markdown",
   "metadata": {},
   "source": [
    "# Cálculo - Tarefa 01\n",
    "\n",
    "1. Marque quais desses métodos/algoritmos muito populares em ciência de dados são baseados no uso de derivada:\n",
    "\n",
    "    1. Método Mínimos Quadrados\n",
    "    2. Gradiente descendente\n",
    "    3. Newton Raphson\n",
    "    4. CART (Árvore de decisão)"
   ]
  },
  {
   "cell_type": "markdown",
   "metadata": {},
   "source": [
    "#### Solução:"
   ]
  },
  {
   "cell_type": "markdown",
   "metadata": {},
   "source": [
    "1. **Método dos Mínimos Quadrados**: Este é um método clássico em estatística para o ajuste de modelos lineares, buscando minimizar a soma dos quadrados das diferenças entre os valores observados e os valores ajustados pelo modelo. Embora o resultado final do ajuste de um modelo linear simples possa ser obtido sem o uso direto de derivadas através da solução de equações normais, a fundamentação teórica e a generalização do método para modelos mais complexos envolvem conceitos de cálculo diferencial. No entanto, na prática de ciência de dados, a aplicação direta do método dos mínimos quadrados frequentemente não exige que o cientista de dados faça cálculos de derivadas manualmente, graças a bibliotecas e ferramentas computacionais que automatizam esses processos.\n",
    "\n",
    "2. **Gradiente Descendente**: Este é um pilar na otimização de modelos de aprendizado de máquina, especialmente em redes neurais. O gradiente descendente utiliza o cálculo de derivadas parciais (gradientes) da função de custo em relação aos parâmetros do modelo para iterativamente ajustar os parâmetros e minimizar a função de custo. A compreensão e aplicação desse método requerem um entendimento sólido de derivadas, pois o gradiente indica a direção de maior aumento da função, e nós buscamos a direção oposta para alcançar o mínimo.\n",
    "\n",
    "3. **Newton-Raphson**: Este método é utilizado para encontrar as raízes de uma função, o que é equivalente a resolver equações não-lineares. Ele se baseia no uso da primeira e, às vezes, da segunda derivada da função para encontrar uma aproximação da raiz. No contexto de otimização, pode ser usado para encontrar pontos de mínimo ou máximo de uma função diferenciável, ajustando-se iterativamente com base na tangente da função. O entendimento de derivadas é crucial aqui, pois o método utiliza a inclinação (derivada) da função para encontrar a próxima aproximação da raiz.\n",
    "\n",
    "4. **CART (Árvore de Decisão)**: Diferente dos métodos acima, o algoritmo CART para construir árvores de decisão não depende de derivadas. Ele utiliza critérios de impureza como o Gini ou a entropia para particionar os dados de forma a melhorar a homogeneidade dos nós resultantes. A construção de árvores de decisão é uma abordagem não-paramétrica e não envolve otimização contínua, portanto, o uso de derivadas não é aplicável.\n",
    "\n",
    "Em resumo, em ciência de dados, o **Gradiente Descendente** e o **Newton-Raphson** são explicitamente dependentes do uso de derivadas para a otimização de modelos e a solução de equações, respectivamente. Por outro lado, enquanto o **Método dos Mínimos Quadrados** tem uma base teórica que envolve derivadas, sua aplicação prática para ajuste de modelos lineares muitas vezes não exige cálculos de derivadas explícitos pelo usuário. **CART (Árvore de Decisão)**, sendo uma técnica baseada em regras, não envolve derivadas em sua aplicação."
   ]
  },
  {
   "cell_type": "markdown",
   "metadata": {},
   "source": [
    "2. Dada uma base de dados com uma variável resposta $y$ e um conjunto de variáveis explicativas. Considere uma estrutura de um modelo de regressão. Explique com suas palavras por que não é possível obter parâmetros que forneçam um erro quadrático médio (EQM) menor que o obtido com estimadores de mínimos quadrados."
   ]
  },
  {
   "cell_type": "markdown",
   "metadata": {},
   "source": [
    "#### Solução:"
   ]
  },
  {
   "cell_type": "markdown",
   "metadata": {},
   "source": [
    "Ao empregar um modelo de regressão para prever valores da variável dependente utilizando variáveis independentes, o emprego dos estimadores de mínimos quadrados assegura a obtenção do menor erro quadrático médio (EQM) possível, refletindo na precisão máxima das previsões. Isso nos leva à conclusão de que, na ausência desses estimadores, alcançar parâmetros que resultem em um EQM inferior é inviável. A razão subjacente é que qualquer tentativa de otimizar excessivamente os parâmetros para além do que os mínimos quadrados propõem pode levar a um sobreajuste (overfitting) do modelo. \n",
    "\n",
    "O sobreajuste ocorre quando o modelo é excessivamente complexo, capturando as peculiaridades dos dados de treinamento em detrimento da generalização para novos dados. Como resultado, embora o modelo possa parecer perfeitamente ajustado aos dados de treinamento, sua capacidade de fazer previsões acuradas para novos conjuntos de dados é comprometida, evidenciando a importância dos estimadores de mínimos quadrados na preservação da balanceada capacidade preditiva do modelo."
   ]
  },
  {
   "cell_type": "code",
   "execution_count": null,
   "metadata": {},
   "outputs": [],
   "source": []
  }
 ],
 "metadata": {
  "kernelspec": {
   "display_name": "Python 3 (ipykernel)",
   "language": "python",
   "name": "python3"
  },
  "language_info": {
   "codemirror_mode": {
    "name": "ipython",
    "version": 3
   },
   "file_extension": ".py",
   "mimetype": "text/x-python",
   "name": "python",
   "nbconvert_exporter": "python",
   "pygments_lexer": "ipython3",
   "version": "3.9.12"
  },
  "toc": {
   "base_numbering": 1,
   "nav_menu": {},
   "number_sections": true,
   "sideBar": true,
   "skip_h1_title": true,
   "title_cell": "Índice",
   "title_sidebar": "Conteúdo",
   "toc_cell": false,
   "toc_position": {},
   "toc_section_display": true,
   "toc_window_display": false
  },
  "varInspector": {
   "cols": {
    "lenName": 16,
    "lenType": 16,
    "lenVar": 40
   },
   "kernels_config": {
    "python": {
     "delete_cmd_postfix": "",
     "delete_cmd_prefix": "del ",
     "library": "var_list.py",
     "varRefreshCmd": "print(var_dic_list())"
    },
    "r": {
     "delete_cmd_postfix": ") ",
     "delete_cmd_prefix": "rm(",
     "library": "var_list.r",
     "varRefreshCmd": "cat(var_dic_list()) "
    }
   },
   "types_to_exclude": [
    "module",
    "function",
    "builtin_function_or_method",
    "instance",
    "_Feature"
   ],
   "window_display": false
  }
 },
 "nbformat": 4,
 "nbformat_minor": 4
}

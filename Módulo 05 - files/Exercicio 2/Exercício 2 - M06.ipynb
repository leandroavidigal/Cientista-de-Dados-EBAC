{
 "cells": [
  {
   "cell_type": "markdown",
   "metadata": {},
   "source": [
    "# Módulo 06 Tarefa 2"
   ]
  },
  {
   "cell_type": "markdown",
   "metadata": {},
   "source": [
    "No exercício realizado, foram utilizados dados do Sistema de Informações sobre Nascidos Vivos (SINASC) de Rondônia referentes ao ano de 2019. Foram feitas visualizações dos dados por meio de boxplots e histogramas utilizando as bibliotecas Pandas, Matplotlib e Seaborn, a fim de explorar as distribuições da idade da mãe e do peso do bebê. A análise exploratória dos dados é uma etapa importante para compreender as características dos dados e, assim, obter insights e conhecimentos relevantes sobre o tema em questão."
   ]
  },
  {
   "cell_type": "code",
   "execution_count": 1,
   "metadata": {},
   "outputs": [],
   "source": [
    "import pandas as pd\n",
    "import matplotlib.pyplot as plt\n",
    "import seaborn as sns\n",
    "\n",
    "%matplotlib inline"
   ]
  },
  {
   "cell_type": "code",
   "execution_count": 2,
   "metadata": {},
   "outputs": [
    {
     "data": {
      "text/html": [
       "<div>\n",
       "<style scoped>\n",
       "    .dataframe tbody tr th:only-of-type {\n",
       "        vertical-align: middle;\n",
       "    }\n",
       "\n",
       "    .dataframe tbody tr th {\n",
       "        vertical-align: top;\n",
       "    }\n",
       "\n",
       "    .dataframe thead th {\n",
       "        text-align: right;\n",
       "    }\n",
       "</style>\n",
       "<table border=\"1\" class=\"dataframe\">\n",
       "  <thead>\n",
       "    <tr style=\"text-align: right;\">\n",
       "      <th></th>\n",
       "      <th>ORIGEM</th>\n",
       "      <th>CODESTAB</th>\n",
       "      <th>CODMUNNASC</th>\n",
       "      <th>LOCNASC</th>\n",
       "      <th>IDADEMAE</th>\n",
       "      <th>ESTCIVMAE</th>\n",
       "      <th>ESCMAE</th>\n",
       "      <th>CODOCUPMAE</th>\n",
       "      <th>QTDFILVIVO</th>\n",
       "      <th>QTDFILMORT</th>\n",
       "      <th>...</th>\n",
       "      <th>KOTELCHUCK</th>\n",
       "      <th>CONTADOR</th>\n",
       "      <th>munResStatus</th>\n",
       "      <th>munResTipo</th>\n",
       "      <th>munResNome</th>\n",
       "      <th>munResUf</th>\n",
       "      <th>munResLat</th>\n",
       "      <th>munResLon</th>\n",
       "      <th>munResAlt</th>\n",
       "      <th>munResArea</th>\n",
       "    </tr>\n",
       "  </thead>\n",
       "  <tbody>\n",
       "    <tr>\n",
       "      <th>0</th>\n",
       "      <td>1</td>\n",
       "      <td>2679477.0</td>\n",
       "      <td>110001</td>\n",
       "      <td>1</td>\n",
       "      <td>19</td>\n",
       "      <td>5.0</td>\n",
       "      <td>8 a 11 anos</td>\n",
       "      <td>NaN</td>\n",
       "      <td>0.0</td>\n",
       "      <td>0.0</td>\n",
       "      <td>...</td>\n",
       "      <td>5</td>\n",
       "      <td>1</td>\n",
       "      <td>ATIVO</td>\n",
       "      <td>MUNIC</td>\n",
       "      <td>Alta Floresta D'Oeste</td>\n",
       "      <td>RondÃ´nia</td>\n",
       "      <td>-11.93554</td>\n",
       "      <td>-61.99982</td>\n",
       "      <td>338.0</td>\n",
       "      <td>7067.025</td>\n",
       "    </tr>\n",
       "    <tr>\n",
       "      <th>1</th>\n",
       "      <td>1</td>\n",
       "      <td>2679477.0</td>\n",
       "      <td>110001</td>\n",
       "      <td>1</td>\n",
       "      <td>29</td>\n",
       "      <td>2.0</td>\n",
       "      <td>8 a 11 anos</td>\n",
       "      <td>999992.0</td>\n",
       "      <td>1.0</td>\n",
       "      <td>0.0</td>\n",
       "      <td>...</td>\n",
       "      <td>5</td>\n",
       "      <td>2</td>\n",
       "      <td>ATIVO</td>\n",
       "      <td>MUNIC</td>\n",
       "      <td>Alta Floresta D'Oeste</td>\n",
       "      <td>RondÃ´nia</td>\n",
       "      <td>-11.93554</td>\n",
       "      <td>-61.99982</td>\n",
       "      <td>338.0</td>\n",
       "      <td>7067.025</td>\n",
       "    </tr>\n",
       "    <tr>\n",
       "      <th>2</th>\n",
       "      <td>1</td>\n",
       "      <td>2679477.0</td>\n",
       "      <td>110001</td>\n",
       "      <td>1</td>\n",
       "      <td>37</td>\n",
       "      <td>9.0</td>\n",
       "      <td>8 a 11 anos</td>\n",
       "      <td>513205.0</td>\n",
       "      <td>2.0</td>\n",
       "      <td>0.0</td>\n",
       "      <td>...</td>\n",
       "      <td>5</td>\n",
       "      <td>3</td>\n",
       "      <td>ATIVO</td>\n",
       "      <td>MUNIC</td>\n",
       "      <td>Alta Floresta D'Oeste</td>\n",
       "      <td>RondÃ´nia</td>\n",
       "      <td>-11.93554</td>\n",
       "      <td>-61.99982</td>\n",
       "      <td>338.0</td>\n",
       "      <td>7067.025</td>\n",
       "    </tr>\n",
       "    <tr>\n",
       "      <th>3</th>\n",
       "      <td>1</td>\n",
       "      <td>2516500.0</td>\n",
       "      <td>110001</td>\n",
       "      <td>1</td>\n",
       "      <td>30</td>\n",
       "      <td>5.0</td>\n",
       "      <td>12 anos ou mais</td>\n",
       "      <td>231205.0</td>\n",
       "      <td>0.0</td>\n",
       "      <td>0.0</td>\n",
       "      <td>...</td>\n",
       "      <td>4</td>\n",
       "      <td>4</td>\n",
       "      <td>ATIVO</td>\n",
       "      <td>MUNIC</td>\n",
       "      <td>Alto Alegre dos Parecis</td>\n",
       "      <td>RondÃ´nia</td>\n",
       "      <td>-12.13178</td>\n",
       "      <td>-61.85308</td>\n",
       "      <td>397.0</td>\n",
       "      <td>3958.273</td>\n",
       "    </tr>\n",
       "    <tr>\n",
       "      <th>4</th>\n",
       "      <td>1</td>\n",
       "      <td>2516500.0</td>\n",
       "      <td>110001</td>\n",
       "      <td>1</td>\n",
       "      <td>30</td>\n",
       "      <td>2.0</td>\n",
       "      <td>8 a 11 anos</td>\n",
       "      <td>999992.0</td>\n",
       "      <td>1.0</td>\n",
       "      <td>0.0</td>\n",
       "      <td>...</td>\n",
       "      <td>5</td>\n",
       "      <td>5</td>\n",
       "      <td>ATIVO</td>\n",
       "      <td>MUNIC</td>\n",
       "      <td>Alta Floresta D'Oeste</td>\n",
       "      <td>RondÃ´nia</td>\n",
       "      <td>-11.93554</td>\n",
       "      <td>-61.99982</td>\n",
       "      <td>338.0</td>\n",
       "      <td>7067.025</td>\n",
       "    </tr>\n",
       "  </tbody>\n",
       "</table>\n",
       "<p>5 rows × 69 columns</p>\n",
       "</div>"
      ],
      "text/plain": [
       "   ORIGEM   CODESTAB  CODMUNNASC  LOCNASC  IDADEMAE  ESTCIVMAE  \\\n",
       "0       1  2679477.0      110001        1        19        5.0   \n",
       "1       1  2679477.0      110001        1        29        2.0   \n",
       "2       1  2679477.0      110001        1        37        9.0   \n",
       "3       1  2516500.0      110001        1        30        5.0   \n",
       "4       1  2516500.0      110001        1        30        2.0   \n",
       "\n",
       "            ESCMAE  CODOCUPMAE  QTDFILVIVO  QTDFILMORT  ...  KOTELCHUCK  \\\n",
       "0      8 a 11 anos         NaN         0.0         0.0  ...           5   \n",
       "1      8 a 11 anos    999992.0         1.0         0.0  ...           5   \n",
       "2      8 a 11 anos    513205.0         2.0         0.0  ...           5   \n",
       "3  12 anos ou mais    231205.0         0.0         0.0  ...           4   \n",
       "4      8 a 11 anos    999992.0         1.0         0.0  ...           5   \n",
       "\n",
       "  CONTADOR munResStatus munResTipo               munResNome   munResUf  \\\n",
       "0        1        ATIVO      MUNIC    Alta Floresta D'Oeste  RondÃ´nia   \n",
       "1        2        ATIVO      MUNIC    Alta Floresta D'Oeste  RondÃ´nia   \n",
       "2        3        ATIVO      MUNIC    Alta Floresta D'Oeste  RondÃ´nia   \n",
       "3        4        ATIVO      MUNIC  Alto Alegre dos Parecis  RondÃ´nia   \n",
       "4        5        ATIVO      MUNIC    Alta Floresta D'Oeste  RondÃ´nia   \n",
       "\n",
       "   munResLat munResLon  munResAlt  munResArea  \n",
       "0  -11.93554 -61.99982      338.0    7067.025  \n",
       "1  -11.93554 -61.99982      338.0    7067.025  \n",
       "2  -11.93554 -61.99982      338.0    7067.025  \n",
       "3  -12.13178 -61.85308      397.0    3958.273  \n",
       "4  -11.93554 -61.99982      338.0    7067.025  \n",
       "\n",
       "[5 rows x 69 columns]"
      ]
     },
     "execution_count": 2,
     "metadata": {},
     "output_type": "execute_result"
    }
   ],
   "source": [
    "#carregando os arquivos\n",
    "sinasc = pd.read_csv('sinasc_RO_2019.csv', sep=',', encoding='ISO-8859-1')\n",
    "\n",
    "sinasc.head()"
   ]
  },
  {
   "cell_type": "markdown",
   "metadata": {},
   "source": [
    "####  1) Na base do SINASC do DataSUS, faça um boxplot da idade da mãe."
   ]
  },
  {
   "cell_type": "code",
   "execution_count": 3,
   "metadata": {
    "scrolled": true
   },
   "outputs": [
    {
     "data": {
      "image/png": "[encoded data removed]",
      "text/plain": [
       "<Figure size 864x432 with 2 Axes>"
      ]
     },
     "metadata": {
      "needs_background": "light"
     },
     "output_type": "display_data"
    }
   ],
   "source": [
    "# Configurando o tamanho da figura\n",
    "plt.rc('figure', figsize=(12, 6))\n",
    "\n",
    "# Criando subplots\n",
    "fig, axes = plt.subplots(1, 2)\n",
    "\n",
    "# Utilizando a biblioteca pandas\n",
    "sinasc.boxplot(column='IDADEMAE', ax=axes[0], color='green')\n",
    "axes[0].set_title('IDADEMAE')\n",
    "axes[0].set_ylabel('Idade da mãe (em anos)')\n",
    "axes[0].set_xticks([])\n",
    "axes[0].set_xlabel('')\n",
    "\n",
    "# Utilizando a biblioteca seaborn\n",
    "sns.boxplot(y='IDADEMAE', data=sinasc, color='green',\n",
    "            boxprops=dict(edgecolor='black', linewidth=1.5),\n",
    "            whiskerprops=dict(color='black', linewidth=1.5),\n",
    "            ax=axes[1])\n",
    "axes[1].set_title('IDADEMAE')\n",
    "axes[1].set_ylabel('Idade da mãe (em anos)')\n",
    "\n",
    "# Ajustando o espaçamento entre os subplots\n",
    "plt.subplots_adjust(wspace=0.3)\n",
    "\n",
    "# Exibindo o gráfico\n",
    "plt.show()"
   ]
  },
  {
   "cell_type": "markdown",
   "metadata": {},
   "source": [
    "O boxplot da idade da mãe nos permite visualizar a distribuição dos dados em relação a sua mediana e quartis, além de identificar possíveis outliers. Observando o gráfico, podemos notar que a mediana está próxima dos 25 anos, com um primeiro quartil entre aproximadamente 20 e 22 anos e um terceiro quartil entre 30 e 32 anos. Também é possível observar a presença de alguns outliers com idades acima dos 45 anos, o que indica que existem algumas mães com idades mais avançadas, embora sejam exceções."
   ]
  },
  {
   "cell_type": "markdown",
   "metadata": {},
   "source": [
    "####  2) Faça um boxplot do peso do bebê"
   ]
  },
  {
   "cell_type": "code",
   "execution_count": 4,
   "metadata": {
    "scrolled": true
   },
   "outputs": [
    {
     "data": {
      "image/png": "[encoded data removed]",
      "text/plain": [
       "<Figure size 576x432 with 2 Axes>"
      ]
     },
     "metadata": {
      "needs_background": "light"
     },
     "output_type": "display_data"
    }
   ],
   "source": [
    "plt.rc('figure', figsize=(8, 6))\n",
    "\n",
    "# Criando subplots\n",
    "fig, axes = plt.subplots(1, 2)\n",
    "\n",
    "# Utilizando a biblioteca pandas\n",
    "sinasc.boxplot(column='PESO', ax=axes[0], color='orange')\n",
    "axes[0].set_title('PESO')\n",
    "axes[0].set_ylabel('Peso do bebê (em gramas)')\n",
    "axes[0].set_xticks([])\n",
    "axes[0].set_xlabel('')\n",
    "\n",
    "# Utilizando a biblioteca seaborn\n",
    "sns.boxplot(y='PESO', data=sinasc, color='orange',\n",
    "            boxprops=dict(edgecolor='black', linewidth=1.5),\n",
    "            whiskerprops=dict(color='black', linewidth=1.5),\n",
    "            ax=axes[1])\n",
    "axes[1].set_title('PESO')\n",
    "axes[1].set_ylabel('Peso do bebê (em gramas)')\n",
    "\n",
    "# Ajustando o espaçamento entre os subplots\n",
    "plt.subplots_adjust(wspace=0.3)\n",
    "\n",
    "# Exibindo o gráfico\n",
    "plt.show()"
   ]
  },
  {
   "cell_type": "markdown",
   "metadata": {},
   "source": [
    "O boxplot do peso do bebê apresenta algumas informações relevantes. A mediana, que divide a amostra em duas partes iguais, está localizada em torno de 3200 gramas. Os quartis inferior e superior estão em torno de 2800 e 3700 gramas, respectivamente. As bolhas e asteriscos fora dos limites superior e inferior do boxplot representam, provavelmente, valores atípicos ou extremos. \n",
    "\n",
    "É possível notar que a distribuição de pesos é mais assimétrica para a direita, indicando que há uma quantidade maior de bebês com peso acima da mediana do que abaixo dela."
   ]
  },
  {
   "cell_type": "markdown",
   "metadata": {},
   "source": [
    "####  3) Faça um histograma da idade da mãe"
   ]
  },
  {
   "cell_type": "code",
   "execution_count": 5,
   "metadata": {
    "scrolled": true
   },
   "outputs": [
    {
     "data": {
      "image/png": "[encoded data removed]",
      "text/plain": [
       "<Figure size 864x432 with 2 Axes>"
      ]
     },
     "metadata": {
      "needs_background": "light"
     },
     "output_type": "display_data"
    }
   ],
   "source": [
    "plt.rc('figure', figsize=(12, 6))\n",
    "\n",
    "fig, axes = plt.subplots(1, 2)\n",
    "\n",
    "# Criando um histograma com pandas\n",
    "sinasc.hist(column='IDADEMAE', bins=20, color='lightblue', edgecolor='black', ax=axes[0])\n",
    "axes[0].set_title('IDADEMAE')\n",
    "axes[0].set_xlabel('Idade da mãe (em anos)')\n",
    "\n",
    "# Criando um histograma com seaborn\n",
    "sns.histplot(data=sinasc, x='IDADEMAE', kde=False, color='turquoise', alpha=0.7, bins=20, element='step', lw=2, ax=axes[1])\n",
    "axes[1].set_title('IDADEMAE')\n",
    "axes[1].set_xlabel('Idade da mãe (em anos)')\n",
    "\n",
    "# Exibindo os gráficos\n",
    "plt.subplots_adjust(wspace=.3)\n",
    "plt.show()\n"
   ]
  },
  {
   "cell_type": "markdown",
   "metadata": {},
   "source": [
    "A partir do histograma da idade da mãe, podemos observar que a maioria das mães se concentra na faixa etária entre 20 e 35 anos. Também é possível notar que há um aumento no número de mães mais jovens (abaixo de 20 anos) e um declínio no número de mães mais velhas (acima de 40 anos). Esse tipo de informação pode ser útil para a definição de políticas públicas de saúde e educação voltadas para as gestantes e mães em diferentes faixas etárias."
   ]
  },
  {
   "cell_type": "markdown",
   "metadata": {},
   "source": [
    "#### 4) Faça um histograma do peso do bebê"
   ]
  },
  {
   "cell_type": "code",
   "execution_count": null,
   "metadata": {},
   "outputs": [],
   "source": [
    "plt.rc('figure', figsize=(12,5))\n",
    "\n",
    "fig, axes = plt.subplots(1,2)\n",
    "\n",
    "# Utilizando a biblioteca pandas:\n",
    "sinasc['PESO'].plot.hist(bins=30, ax=axes[0])\n",
    "axes[0].set_title(label=\"'PESO'\")\n",
    "axes[0].set_xlabel(xlabel='Peso ao nascer (em gramas)')\n",
    "\n",
    "# Utilizando a biblioteca seaborn:\n",
    "sns.histplot(data=sinasc['PESO'], bins=30, ax=axes[1])\n",
    "axes[1].set_title(label=\"'PESO'\")\n",
    "axes[1].set_xlabel(xlabel='Peso ao nascer (em gramas)')\n",
    "\n",
    "plt.subplots_adjust(wspace=.3)\n",
    "plt.show()"
   ]
  },
  {
   "cell_type": "markdown",
   "metadata": {},
   "source": [
    "O histograma do peso do bebê apresenta uma distribuição aproximadamente normal, com a maioria dos bebês tendo um peso entre 2500g e 4000g. Também é possível notar uma cauda para a direita, indicando a presença de alguns casos com peso acima da média. A maior concentração de valores está na faixa de 3000g a 3500g, o que pode indicar um padrão de peso médio para os bebês registrados no conjunto de dados."
   ]
  },
  {
   "cell_type": "markdown",
   "metadata": {},
   "source": [
    "#### Conclusão"
   ]
  },
  {
   "cell_type": "markdown",
   "metadata": {},
   "source": [
    "Neste exercício, realizamos uma análise exploratória de dados de nascimentos no estado de Rondônia no ano de 2019. Utilizamos visualizações de boxplot e histograma para explorar as variáveis idade da mãe e peso do bebê ao nascer.\n",
    "\n",
    "Ao analisar o boxplot da idade da mãe, observamos que a mediana estava em torno de 25 anos, e que havia uma grande dispersão de idades, desde adolescentes até mulheres com mais de 40 anos. Já no boxplot do peso do bebê, vimos que a maioria dos bebês nasceu com peso entre 2.500 e 3.500 gramas, com alguns casos de bebês com baixo peso ou peso muito elevado.\n",
    "\n",
    "Ao analisar os histogramas, confirmamos as informações observadas nos boxplots. No histograma da idade da mãe, observamos que a distribuição era aproximadamente simétrica, com um pico em torno dos 22 anos e uma cauda mais longa para idades mais avançadas. No histograma do peso do bebê, vimos que a distribuição era assimétrica, com uma assimetria positiva, indicando uma maior frequência de bebês com peso abaixo da média.\n",
    "\n",
    "Em suma, a análise exploratória nos permitiu identificar algumas das principais características dos nascimentos em Rondônia em 2019, incluindo a grande dispersão de idades das mães e a distribuição assimétrica do peso dos bebês ao nascer. Essas informações podem ser úteis para guiar futuras investigações ou para informar políticas de saúde pública relacionadas à saúde materno-infantil na região."
   ]
  },
  {
   "cell_type": "code",
   "execution_count": null,
   "metadata": {},
   "outputs": [],
   "source": []
  }
 ],
 "metadata": {
  "kernelspec": {
   "display_name": "Python 3 (ipykernel)",
   "language": "python",
   "name": "python3"
  },
  "language_info": {
   "codemirror_mode": {
    "name": "ipython",
    "version": 3
   },
   "file_extension": ".py",
   "mimetype": "text/x-python",
   "name": "python",
   "nbconvert_exporter": "python",
   "pygments_lexer": "ipython3",
   "version": "3.9.12"
  }
 },
 "nbformat": 4,
 "nbformat_minor": 4
}

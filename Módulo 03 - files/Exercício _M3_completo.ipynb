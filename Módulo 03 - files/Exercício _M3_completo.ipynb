{
 "cells": [
  {
   "cell_type": "markdown",
   "metadata": {
    "id": "paH5g5sfojaV"
   },
   "source": [
    "### Exercício - Módulo 3 - Part I\n"
   ]
  },
  {
   "cell_type": "markdown",
   "metadata": {
    "id": "i3wLsfZTofqd"
   },
   "source": [
    "#### 01 - Teste de gravidez\n",
    "Escreva uma célula com controle de fluxos que tem como premissa a existência das seguintes variáveis:\n",
    "\n",
    "- ```sexo``` como ```str``` indicando os valores '**M**' para masculino e '**F**' para feminino  \n",
    "- ```beta_hcg``` que indica a quantidade do beta-HCG no sangue em mUI/mL.\n",
    "\n",
    "A sua tarefa é escrever um código que imprima como resultado \"indivíduo do sexo masculino\" quando sexo = 'M', caso sexo = 'F', se o valor de beta-HCG for maior que 5, retorne \"Positivo\" indicando que a paciente está grávida, e retorne \"Negativo\" caso contrário.\n",
    "\n",
    "Não mexa nos valores da variável ```sexo``` nem em ```beta_hcg```, e escreva um código que funcione para quaisquer valores possíveis de ambos: ```sexo``` = '**M**' ou '**F**' e ```beta_hcg``` assumindo valores inteiros positivos."
   ]
  },
  {
   "cell_type": "code",
   "execution_count": null,
   "metadata": {
    "colab": {
     "base_uri": "https://localhost:8080/"
    },
    "executionInfo": {
     "elapsed": 298,
     "status": "ok",
     "timestamp": 1680569764078,
     "user": {
      "displayName": "Leandro Vidigal",
      "userId": "00635282304638275185"
     },
     "user_tz": 240
    },
    "id": "gSggEIKvofqg",
    "outputId": "b03e8e96-1d09-460a-f5f5-c139d70425e1"
   },
   "outputs": [
    {
     "name": "stdout",
     "output_type": "stream",
     "text": [
      "Negativo: ela não está grávida\n"
     ]
    }
   ],
   "source": [
    "sexo = 'F'\n",
    "beta_hcg = 0\n",
    "\n",
    "# código abaixo:\n",
    "\n",
    "if sexo == 'M':\n",
    "    print(\"Pessoa do sexo masculino\")\n",
    "\n",
    "elif sexo == 'F' and beta_hcg > 5:\n",
    "    print(\"Positivo: ela está grávida\")\n",
    "\n",
    "else:\n",
    "    print(\"Negativo: ela não está grávida\")"
   ]
  },
  {
   "cell_type": "markdown",
   "metadata": {
    "id": "9_AWz-r6ofqi"
   },
   "source": [
    "#### 02 - Renomeando variáveis\n",
    "\n",
    "Vamos ver adiante que uma forma de renomear variáveis de um conjunto de dados é através de dicionários - o dicionário deve conter como chave o nome original, associando a cada chave um único valor (tipo *str*) que contenha o nome novo.\n",
    "\n",
    "A sua tarefa é escrever um dicionário que possa ser utilizado para traduzir as variáveis ```name``` (nome), ```age``` (idade) e ```income``` (renda). Ou seja, esse dicionário deve relacionar as chaves *name, age* e *income* às suas respectivas traduções."
   ]
  },
  {
   "cell_type": "code",
   "execution_count": null,
   "metadata": {
    "id": "18einQyJofqi"
   },
   "outputs": [],
   "source": [
    "dic_renomeacao = {\n",
    "    'name': 'nome',\n",
    "    'age': 'idade',\n",
    "    'income': 'renda'\n",
    "}"
   ]
  },
  {
   "cell_type": "markdown",
   "metadata": {
    "id": "0JwAEkWWofqk"
   },
   "source": [
    "#### 03 - É divisível?\n",
    "A sua tarefa é escrever um código que indique se um número ```N``` é divisível por um número P. Escreva um programa que faça essa verificação para quaisquer combinações de ```N``` e ```M``` e devolva uma mensagem indicativa no output."
   ]
  },
  {
   "cell_type": "code",
   "execution_count": null,
   "metadata": {
    "colab": {
     "base_uri": "https://localhost:8080/"
    },
    "executionInfo": {
     "elapsed": 295,
     "status": "ok",
     "timestamp": 1680569633124,
     "user": {
      "displayName": "Leandro Vidigal",
      "userId": "00635282304638275185"
     },
     "user_tz": 240
    },
    "id": "S9wyIL42ofql",
    "outputId": "77519795-9be2-4673-edc8-2f588a973b14"
   },
   "outputs": [
    {
     "name": "stdout",
     "output_type": "stream",
     "text": [
      "42 é divisível por 7\n"
     ]
    }
   ],
   "source": [
    "N = 42\n",
    "M = 7\n",
    "\n",
    "#código abaixo:\n",
    "\n",
    "if N % M == 0:\n",
    "    print(f\"{N} é divisível por {M}\")\n",
    "else:\n",
    "    print(f\"{N} não é divisível por {M}\")"
   ]
  },
  {
   "cell_type": "markdown",
   "metadata": {
    "id": "7deYKK9Xofql"
   },
   "source": [
    "#### 04 - Números primos\n",
    "> Um número **N** é primo se e somente se é divisível por 1, -1, por **N** e por -**N**.  \n",
    "\n",
    "Escreva um script que verifica se ```N``` é um número primo, verificando se ```N``` é divisível por todos os números de ```1``` a ```N-1```. Você vai precisar usar alguma ferramenta de *loop* que você aprendeu para isto. No final, devolva uma mensagem no output indicando se o número é primo ou não."
   ]
  },
  {
   "cell_type": "code",
   "execution_count": null,
   "metadata": {
    "colab": {
     "base_uri": "https://localhost:8080/"
    },
    "executionInfo": {
     "elapsed": 316,
     "status": "ok",
     "timestamp": 1680569900484,
     "user": {
      "displayName": "Leandro Vidigal",
      "userId": "00635282304638275185"
     },
     "user_tz": 240
    },
    "id": "9tCpVLqzofqm",
    "outputId": "c0ab03d0-3271-4376-cd64-9478b5a5bf9a"
   },
   "outputs": [
    {
     "name": "stdout",
     "output_type": "stream",
     "text": [
      "47 é um número primo\n"
     ]
    }
   ],
   "source": [
    "N = 47\n",
    "\n",
    "#código abaixo\n",
    "if N > 1:\n",
    "    for i in range(2, N):\n",
    "        if (N % i) == 0:\n",
    "            print(f\"{N} não é um número primo\")\n",
    "            break\n",
    "    else:\n",
    "        print(f\"{N} é um número primo\")\n",
    "else:\n",
    "    print(f\"{N} não é um número primo\")"
   ]
  },
  {
   "cell_type": "markdown",
   "metadata": {
    "id": "bf1aTDE0ofqm"
   },
   "source": [
    "#### 05 - Desafio\n",
    "O algorítmo do exercício anterior não é o mais eficiente. O que você pode fazer para deixá-lo mais eficiente? Ou seja, executar menos comparações, portanto consumir menos tempo.\n",
    "1. Será que precisamos correr o loop até o final sempre?\n",
    "2. Será que precisamos mesmo verificar **todos** os números?\n",
    "3. Será que precisamos ir até N-1?\n",
    "\n",
    "Essas perguntas levam ao tipo de pensamento voltado a deixar um algoritmo mais eficiente. Veja se você consegue melhorar o seu."
   ]
  },
  {
   "cell_type": "code",
   "execution_count": null,
   "metadata": {
    "colab": {
     "base_uri": "https://localhost:8080/"
    },
    "executionInfo": {
     "elapsed": 311,
     "status": "ok",
     "timestamp": 1680570132044,
     "user": {
      "displayName": "Leandro Vidigal",
      "userId": "00635282304638275185"
     },
     "user_tz": 240
    },
    "id": "amJwM2oiofqn",
    "outputId": "91276eee-9e8e-4f61-9734-ece9c515ddf8"
   },
   "outputs": [
    {
     "name": "stdout",
     "output_type": "stream",
     "text": [
      "98 não é um número primo\n"
     ]
    }
   ],
   "source": [
    "N = 98\n",
    "\n",
    "#código abaixo:\n",
    "import math\n",
    "\n",
    "if N > 1:\n",
    "    limite = int(math.sqrt(N)) + 1\n",
    "    for i in range(2, limite):\n",
    "        if (N % i) == 0:\n",
    "            print(f\"{N} não é um número primo\")\n",
    "            break\n",
    "    else:\n",
    "        print(f\"{N} é um número primo\")\n",
    "else:\n",
    "    print(f\"{N} não é um número primo\")"
   ]
  },
  {
   "cell_type": "markdown",
   "metadata": {
    "id": "vgTD3Hx2ofqn"
   },
   "source": [
    "#### 06 - Peso ideal 1\n",
    "O IMC (índice de massa corpórea) é um indicador de saúde mais bem aceito que o peso. Ele é calculado como:\n",
    "\n",
    "$$ IMC = \\dfrac{peso}{altura^2}$$\n",
    "\n",
    "Segundo a OMS, valores *normais* são entre 18.5 e 24.9.\n",
    "\n",
    "Sua tarefa é encontrar o ponto médio dessa faixa."
   ]
  },
  {
   "cell_type": "code",
   "execution_count": null,
   "metadata": {
    "colab": {
     "base_uri": "https://localhost:8080/"
    },
    "executionInfo": {
     "elapsed": 322,
     "status": "ok",
     "timestamp": 1680570358990,
     "user": {
      "displayName": "Leandro Vidigal",
      "userId": "00635282304638275185"
     },
     "user_tz": 240
    },
    "id": "cksWAlGFofqn",
    "outputId": "0a5f1549-6db6-44da-803d-4012005f9414"
   },
   "outputs": [
    {
     "name": "stdout",
     "output_type": "stream",
     "text": [
      "O ponto médio da faixa de valores normais do IMC é: 21.7\n"
     ]
    }
   ],
   "source": [
    "imc_min = 18.5\n",
    "imc_max = 24.9\n",
    "\n",
    "# Calculando o ponto médio\n",
    "imc_ideal = (imc_min + imc_max) / 2\n",
    "\n",
    "print(\"O ponto médio da faixa de valores normais do IMC é:\", imc_ideal)"
   ]
  },
  {
   "cell_type": "markdown",
   "metadata": {
    "id": "C5d5-DDuofqo"
   },
   "source": [
    "#### 07 - Peso ideal 2\n",
    "Recebendo um valor de altura, encontre o peso '*ideal*' dessa pessoa, que fornece o IMC encontrado acima"
   ]
  },
  {
   "cell_type": "code",
   "execution_count": null,
   "metadata": {
    "colab": {
     "base_uri": "https://localhost:8080/"
    },
    "executionInfo": {
     "elapsed": 295,
     "status": "ok",
     "timestamp": 1680571516402,
     "user": {
      "displayName": "Leandro Vidigal",
      "userId": "00635282304638275185"
     },
     "user_tz": 240
    },
    "id": "QD0NcmrGofqo",
    "outputId": "492a64ac-5f98-46ba-85b1-82f96c6d2ffd"
   },
   "outputs": [
    {
     "name": "stdout",
     "output_type": "stream",
     "text": [
      "O peso ideal para uma pessoa com altura 1.7 e IMC 21.7 é: 62.712999999999994 kg\n"
     ]
    }
   ],
   "source": [
    "altura = 1.70\n",
    "\n",
    "# Seu código\n",
    "imc_ideal = 21.7\n",
    "\n",
    "peso_ideal = imc_ideal * (altura**2)\n",
    "\n",
    "print(\"O peso ideal para uma pessoa com altura\", altura, \"e IMC\", imc_ideal, \"é:\", peso_ideal, \"kg\")"
   ]
  },
  {
   "cell_type": "markdown",
   "metadata": {
    "id": "CAFrqb-kofqo"
   },
   "source": [
    "#### 08 - Peso ideal 3\n",
    "Dada uma lista contendo as alturas de pacientes, crie uma nova lista que contenha o peso '*ideal*' (que fornece o IMC calculado em **Peso ideal 1**) desses pacientes."
   ]
  },
  {
   "cell_type": "code",
   "execution_count": null,
   "metadata": {
    "colab": {
     "base_uri": "https://localhost:8080/"
    },
    "executionInfo": {
     "elapsed": 285,
     "status": "ok",
     "timestamp": 1680572192817,
     "user": {
      "displayName": "Leandro Vidigal",
      "userId": "00635282304638275185"
     },
     "user_tz": 240
    },
    "id": "VTZ5WALjofqo",
    "outputId": "257ddcc6-4ee2-4aa0-ff8b-233616119c82"
   },
   "outputs": [
    {
     "name": "stdout",
     "output_type": "stream",
     "text": [
      "Os pesos ideais para as alturas [1.95, 2.05, 1.7, 1.65] e IMC 21.7 são:\n",
      "[82.51, 91.19, 62.71, 59.08]\n"
     ]
    }
   ],
   "source": [
    "lista_alturas = [1.95, 2.05, 1.70, 1.65]\n",
    "\n",
    "lista_peso_ideal = []\n",
    "\n",
    "#código abaixo:\n",
    "\n",
    "for altura in lista_alturas:\n",
    "    peso_ideal = imc_ideal * altura**2\n",
    "    lista_peso_ideal.append(peso_ideal)\n",
    "\n",
    "print(\"Os pesos ideais para as alturas\", lista_alturas, \"e IMC\", imc_ideal, \"são:\")\n",
    "print(list(map(lambda x: round(x, 2), lista_peso_ideal)))"
   ]
  },
  {
   "cell_type": "markdown",
   "metadata": {
    "id": "dIqA0L0Nofqp"
   },
   "source": [
    "#### 09 - Peso ideal 4\n",
    "Dada uma lista de tuplas - cada elemento da lista é uma tupla contendo altura e peso de um paciente - crie uma nova lista com o IMC desses pacientes."
   ]
  },
  {
   "cell_type": "code",
   "execution_count": null,
   "metadata": {
    "colab": {
     "base_uri": "https://localhost:8080/"
    },
    "executionInfo": {
     "elapsed": 16,
     "status": "ok",
     "timestamp": 1680572410460,
     "user": {
      "displayName": "Leandro Vidigal",
      "userId": "00635282304638275185"
     },
     "user_tz": 240
    },
    "id": "eAcIm1-gofqp",
    "outputId": "52cd2169-ddff-4d84-f8d6-269854b902f0"
   },
   "outputs": [
    {
     "name": "stdout",
     "output_type": "stream",
     "text": [
      "[27.777777777777775, 27.548209366391188, 19.188070502453332]\n"
     ]
    }
   ],
   "source": [
    "altura_peso = [(1.80, 90), (1.65, 75), (1.91, 70)]\n",
    "\n",
    "imc = []\n",
    "\n",
    "#código abaixo:\n",
    "\n",
    "for paciente in altura_peso:\n",
    "    altura = paciente[0]\n",
    "    peso = paciente[1]\n",
    "    calculo_imc = peso / altura**2\n",
    "    imc.append(calculo_imc)\n",
    "\n",
    "print(imc)"
   ]
  },
  {
   "cell_type": "markdown",
   "metadata": {
    "id": "8L7w4Xxdofqp"
   },
   "source": [
    "#### 10 - Peso ideal 5\n",
    "Dada uma lista de **listas** - cada elemento da lista é uma **lista** contendo altura e peso de um paciente, adicione mais um elemento à lista de cada paciente contendo o IMC do paciente. Verifique também se é 'baixo', 'normal' ou 'alto' segundo os padrões da OMS em que normal é entre 18.5 e 24.9.\n",
    "\n",
    "Reflexão: por que no problema anterior temos que criar uma nova lista, e não podemos adicionar os dados de cada indivíduo à tupla?"
   ]
  },
  {
   "cell_type": "code",
   "execution_count": null,
   "metadata": {
    "colab": {
     "base_uri": "https://localhost:8080/"
    },
    "executionInfo": {
     "elapsed": 283,
     "status": "ok",
     "timestamp": 1680572681596,
     "user": {
      "displayName": "Leandro Vidigal",
      "userId": "00635282304638275185"
     },
     "user_tz": 240
    },
    "id": "TWm7lcu8ofqp",
    "outputId": "3856fdca-027c-469a-d35a-8854a91b0d6a"
   },
   "outputs": [
    {
     "name": "stdout",
     "output_type": "stream",
     "text": [
      "[[1.8, 90, 27.78, 'alto'], [1.65, 75, 27.55, 'alto'], [1.91, 70, 19.19, 'normal']]\n"
     ]
    }
   ],
   "source": [
    "altura_peso = [[1.80, 90], [1.65, 75], [1.91, 70]]\n",
    "\n",
    "#código abaixo:\n",
    "\n",
    "for paciente in altura_peso:\n",
    "    altura = paciente[0]\n",
    "    peso = paciente[1]\n",
    "    imc = round(peso / altura**2, 2)\n",
    "    if imc < 18.5:\n",
    "        classificacao = 'baixo'\n",
    "    elif imc <= 24.9:\n",
    "        classificacao = 'normal'\n",
    "    else:\n",
    "        classificacao = 'alto'\n",
    "    paciente.append(imc)\n",
    "    paciente.append(classificacao)\n",
    "\n",
    "print(altura_peso)"
   ]
  },
  {
   "cell_type": "markdown",
   "metadata": {},
   "source": [
    "### Exercício - Módulo 3 - Part II"
   ]
  },
  {
   "cell_type": "markdown",
   "metadata": {},
   "source": [
    "#### Numpy"
   ]
  },
  {
   "cell_type": "code",
   "execution_count": null,
   "metadata": {},
   "outputs": [],
   "source": [
    "import numpy as np"
   ]
  },
  {
   "cell_type": "markdown",
   "metadata": {},
   "source": [
    "O código acima importa a biblioteca NumPy, permitindo que se utilize as funções e métodos fornecidos por essa biblioteca em seus programas. O \"np\" é um apelido - alias - que foi dado à biblioteca, substituindo a palavra \"numpy\" no código, tornando o código mais conciso e legível."
   ]
  },
  {
   "cell_type": "markdown",
   "metadata": {},
   "source": [
    "#### 1) Alturas  \n",
    "i. No trecho de código abaixo, crie um ndarray chamado ```altura_em_centimetros``` transformando a lista ```lista_de_alturas``` em um ndarray do numpy com a função ```np.array()```  \n",
    "\n",
    "ii. Crie um outro objeto ```altura_em_metros```, com os valores de ```altura_em_centimetros``` convertidos para metros."
   ]
  },
  {
   "cell_type": "code",
   "execution_count": null,
   "metadata": {},
   "outputs": [],
   "source": [
    "lista_de_alturas = list(range(170, 190, 5))\n",
    "lista_de_alturas"
   ]
  },
  {
   "cell_type": "code",
   "execution_count": null,
   "metadata": {},
   "outputs": [],
   "source": [
    "#código abaixo (I):\n",
    "\n",
    "altura_em_centimetros = np.array(lista_de_alturas)\n",
    "\n",
    "print(altura_em_centimetros)"
   ]
  },
  {
   "cell_type": "code",
   "execution_count": null,
   "metadata": {},
   "outputs": [],
   "source": [
    "#código abaixo (II):\n",
    "\n",
    "altura_em_metros = altura_em_centimetros / 100\n",
    "\n",
    "print(altura_em_metros)"
   ]
  },
  {
   "cell_type": "markdown",
   "metadata": {},
   "source": [
    "#### 2) IMC  \n",
    "i. Considere que pesos em Kg dessas pessoas, na mesma ortem, estão na lista pesos ```lista_pesos = [70, 75, 80, 85]```. Crie um **ndarray** chamado ```pesos``` com a função ```np.array()``` que contenha esses valores.  \n",
    "ii. Utilizando o objeto que contém as alturas em metros e esse objeto que contém os respectivos pesos em quilos, calcule o IMC desses indivíduos utilizando a aritmética de arrays e guarde os resultados em um objeto chamado ```imc```."
   ]
  },
  {
   "cell_type": "code",
   "execution_count": null,
   "metadata": {},
   "outputs": [],
   "source": [
    "lista_pesos = [70, 75, 80, 85]\n",
    "lista_pesos\n",
    "\n",
    "#código abaixo (I):\n",
    "\n",
    "pesos = np.array(lista_pesos)"
   ]
  },
  {
   "cell_type": "code",
   "execution_count": null,
   "metadata": {},
   "outputs": [],
   "source": [
    "#código abaixo (II):\n",
    "\n",
    "imc = pesos / (altura_em_metros**2)\n",
    "imc = np.round(imc, 2)\n",
    "print(imc)"
   ]
  },
  {
   "cell_type": "markdown",
   "metadata": {},
   "source": [
    "#### 3) Endividamento\n",
    "\n",
    "Cálculos de novas variáveis como endividamento total e comprometimento de renda são essenciais para a construção de modelos financeiros em ciência de dados. Áreas não financeiras terão cálculos semelhantes também. Vamos praticar:\n",
    "\n",
    "Considere que o seguinte ndarray contém os dados de 4 pessoas, total a ser pago a empréstimos mensalmente e renda familiar:\n",
    "\n",
    "| custo fixo | dívida financeira | renda familiar |\n",
    "|:----:|:----:|:---|\n",
    "| 3000  | 1000 | 6000 |\n",
    "| 2500  | 2500 | 5500 |\n",
    "| 1000  | 3000 | 7000 |\n",
    "| 10000 | 5000 | 16000 |\n",
    "\n",
    "i. Transforme a lista de listas ```dados_financeiros``` no ndarray ```nd_financeiros```.\n",
    "> ``` dados_financeiros[[3000, 2500, 1000, 10000],[1000, 2500, 3000, 5000],[6000, 5500, 7000, 16000]] ```\n",
    "\n",
    "ii. Utilize o método ```.transpose ``` e certifique-se de que esse ndarray tenha uma linha por indivíduo e uma coluna por informação. Utilizando a indexação do numpy, imprima no output a segunda linha do array, depois a segunda coluna.\n",
    "\n",
    "iii. Pratique aritmética com nearrays e calcule o endividamento total como:\n",
    "$$endividamento\\hspace{.2cm}total = \\frac{custo \\hspace{.2cm}fixo + dívida\\hspace{.2cm}financeira}{renda\\hspace{.2cm}familiar}$$\n",
    "Guarde os resultados em uma variável chamada ```endividamento_total``` e verifique os resultados imprimindo o conteúdo dessa variável no output.\n",
    "\n",
    "iv. Considere que há um erro de digitação que precisa ser corrigido: 3o indivíduo na verdade não possui renda familiar de R\\\\$7.000,00, mas sim R\\\\$ 10.000,00. Corrija esse valor e refaça os cálculos."
   ]
  },
  {
   "cell_type": "code",
   "execution_count": null,
   "metadata": {},
   "outputs": [],
   "source": [
    "# lista dados_financeiros\n",
    "dados_financeiros = [[3000, 2500, 1000, 10000],[1000, 2500, 3000, 5000],[6000, 5500, 7000, 16000]]\n",
    "dados_financeiros\n",
    "\n",
    "#I) transforme essa lista em um ndarray\n",
    "\n",
    "nd_financeiros = np.array(dados_financeiros)"
   ]
  },
  {
   "cell_type": "code",
   "execution_count": null,
   "metadata": {},
   "outputs": [],
   "source": [
    "#II) utilização do método transpose\n",
    "nd_financeiros_transpose = nd_financeiros.transpose()\n",
    "print(nd_financeiros_transpose[0])\n",
    "print(nd_financeiros_transpose[:,1])"
   ]
  },
  {
   "cell_type": "code",
   "execution_count": null,
   "metadata": {},
   "outputs": [],
   "source": [
    "#III) Calcule o endividamento total\n",
    "soma_custo_divida = nd_financeiros_transpose[:,0].sum() + nd_financeiros_transpose[:,1].sum()\n",
    "soma_renda = nd_financeiros_transpose[:,2].sum()\n",
    "endividamento = (soma_custo_divida / soma_renda)\n",
    "\n",
    "print(\"O endividamento total em porcentagem é de: {:.2f}%\".format(endividamento))"
   ]
  },
  {
   "cell_type": "code",
   "execution_count": null,
   "metadata": {},
   "outputs": [],
   "source": [
    "#IV) corrigindo um valor específico (de 7000 para 10000)\n",
    "\n",
    "dados_financeiros[2][2] = 10000\n",
    "print(dados_financeiros)"
   ]
  },
  {
   "cell_type": "code",
   "execution_count": null,
   "metadata": {},
   "outputs": [],
   "source": [
    "# novo cálculo\n",
    "\n",
    "nd_financeiros = np.array(dados_financeiros)\n",
    "nd_financeiros_transpose = nd_financeiros.transpose()\n",
    "soma_custo_divida = nd_financeiros_transpose[:,0].sum() + nd_financeiros_transpose[:,1].sum()\n",
    "soma_renda = nd_financeiros_transpose[:,2].sum()\n",
    "endividamento = (soma_custo_divida / soma_renda)\n",
    "\n",
    "print(\"O endividamento total em porcentagem é de: {:.2f}%\".format(endividamento))"
   ]
  },
  {
   "cell_type": "markdown",
   "metadata": {},
   "source": [
    "4) É muito comum precisarmos identificar valores especiais e darmos tratamento a eles quer seja alterando-os quer seja descartando-os.\n",
    "O trecho de código abaixo gera um ndarray com números pseudo aleatórios. Considere que para efeitos do estudo que virá, devemos desconsiderar valores iguais a zero. Sendo assim:\n",
    "\n",
    "i) crie um objeto bool_zero que traga uma sequencia de booleanos do mesmo tamanho que o objeto poi, e que vale True quando o valor de poi é zero, e False caso contrário.\n",
    "\n",
    "ii) Conte quantos valores zero existem. Lembre-se de que no final das contas, True vale 1 para o Python, e False vale zero, então uma boa dica seria usar a função sum().\n",
    "\n",
    "iii) Utilize a indexação booleana que você aprendeu para criar uma variável poi_nao_zero que aponta para os elementos de poi diferentes de zero. Dica: você vai pode inverter os elementos do objeto que criou em ii) ou escrever a comparação adequada"
   ]
  },
  {
   "cell_type": "code",
   "execution_count": null,
   "metadata": {},
   "outputs": [],
   "source": [
    "# objeto poi - obs: o comando np.random.seed(1234) garante que o mesmo resultado será gerado sempre\n",
    "np.random.seed(1234)\n",
    "poi = np.random.poisson(3, 100)\n",
    "poi"
   ]
  },
  {
   "cell_type": "code",
   "execution_count": null,
   "metadata": {},
   "outputs": [],
   "source": [
    "# i) crie o objeto bool_zero através do operador ==\n",
    "\n",
    "bool_zero = (poi == 0)\n",
    "print(bool_zero)"
   ]
  },
  {
   "cell_type": "code",
   "execution_count": null,
   "metadata": {},
   "outputs": [],
   "source": [
    "#para melhor visualização vou colocar o True em negrito utilizando HTML\n",
    "\n",
    "from IPython.display import HTML\n",
    "\n",
    "bool_zero_formatted = [\"<b>True</b>\" if x else \"False\" for x in bool_zero]\n",
    "\n",
    "bool_zero_html = \"[\" + \", \".join(bool_zero_formatted) + \"]\"\n",
    "\n",
    "display(HTML(bool_zero_html))"
   ]
  },
  {
   "cell_type": "code",
   "execution_count": null,
   "metadata": {},
   "outputs": [],
   "source": [
    "# ii) Conte a quantidade de zeros (ou some os elementos de bool_zero)"
   ]
  },
  {
   "cell_type": "code",
   "execution_count": null,
   "metadata": {},
   "outputs": [],
   "source": [
    "num_zeros = sum(bool_zero)\n",
    "print(num_zeros)"
   ]
  },
  {
   "cell_type": "code",
   "execution_count": null,
   "metadata": {},
   "outputs": [],
   "source": [
    "# iii) utilize a indexação booleana para criar uma seleção de não-zeros\n",
    "# dica: inverta o objeto bool_zero"
   ]
  },
  {
   "cell_type": "code",
   "execution_count": null,
   "metadata": {},
   "outputs": [],
   "source": [
    "non_zeros = poi[~bool_zero]\n",
    "print(non_zeros)"
   ]
  },
  {
   "cell_type": "code",
   "execution_count": null,
   "metadata": {},
   "outputs": [],
   "source": [
    "num_not_zeros = sum(~bool_zero)\n",
    "print(num_not_zeros)"
   ]
  }
 ],
 "metadata": {
  "colab": {
   "provenance": [],
   "toc_visible": true
  },
  "kernelspec": {
   "display_name": "Python 3 (ipykernel)",
   "language": "python",
   "name": "python3"
  },
  "language_info": {
   "codemirror_mode": {
    "name": "ipython",
    "version": 3
   },
   "file_extension": ".py",
   "mimetype": "text/x-python",
   "name": "python",
   "nbconvert_exporter": "python",
   "pygments_lexer": "ipython3",
   "version": "3.9.12"
  }
 },
 "nbformat": 4,
 "nbformat_minor": 1
}

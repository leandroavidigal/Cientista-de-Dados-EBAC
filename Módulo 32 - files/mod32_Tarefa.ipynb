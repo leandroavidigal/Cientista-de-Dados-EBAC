{
 "cells": [
  {
   "cell_type": "markdown",
   "metadata": {},
   "source": [
    "### **Módulo 32** | Probabilidade | Exercício"
   ]
  },
  {
   "cell_type": "markdown",
   "metadata": {},
   "source": [
    "## Probabilidade - Tarefa"
   ]
  },
  {
   "cell_type": "code",
   "execution_count": null,
   "metadata": {},
   "outputs": [],
   "source": [
    "import math\n",
    "import numpy             as np\n",
    "import pandas            as pd\n",
    "import matplotlib.pyplot as plt\n",
    "import matplotlib.ticker as mtick\n",
    "import seaborn           as sns\n",
    "\n",
    "from scipy import stats"
   ]
  },
  {
   "cell_type": "markdown",
   "metadata": {},
   "source": [
    "1. Uma máquina embala ração para cachorro em pacotes de 15 kg, mas cada pacote produzido acaba tendo um peso aleatório, com distribuição Normal, com média 15kg, mas com desvio padrão 0,1 kg. Obtenha a probabilidade de que um pacote selecionado aleatoriamente dessa produção tenha mais que 15,2 kg."
   ]
  },
  {
   "cell_type": "code",
   "execution_count": null,
   "metadata": {
    "scrolled": true
   },
   "outputs": [],
   "source": [
    "# Parâmetros da distribuição normal\n",
    "media = 15  # média em kg\n",
    "desvio_padrao = 0.1  # desvio padrão em kg\n",
    "\n",
    "# Valor limite superior (15,2 kg)\n",
    "limite_superior = 15.2\n",
    "\n",
    "# Calcular a probabilidade de um pacote ter mais que 15,2 kg usando a função de distribuição acumulativa (CDF)\n",
    "probabilidade = 1 - stats.norm.cdf(x=limite_superior, loc=media, scale=desvio_padrao)\n",
    "\n",
    "# Exibe o resultado formatado\n",
    "print(f'A probabilidade de um pacote ter mais que {limite_superior} kg é de: {probabilidade*100:.2f}%'.replace('.', ','))"
   ]
  },
  {
   "cell_type": "markdown",
   "metadata": {},
   "source": [
    "2. Da máquina descrita acima, obtenha o percentil de ordem 95% para o peso dos pacotes. Ou seja, o valor tal que a probabilidade de um pacote ter peso menor que este seja de 95%."
   ]
  },
  {
   "cell_type": "code",
   "execution_count": null,
   "metadata": {},
   "outputs": [],
   "source": [
    "# Calcula o percentil de ordem 95% para o peso dos pacotes\n",
    "percentil = stats.norm.ppf(q=0.95, loc=media, scale=desvio_padrao)\n",
    "\n",
    "# Exibe o resultado formatado\n",
    "print(f'O percentil de ordem 95% para o peso dos pacotes é: {percentil:.2f} kg'.replace('.', ','))"
   ]
  },
  {
   "cell_type": "markdown",
   "metadata": {},
   "source": [
    "3. Suponha duas variáveis aleatórias $Y_1$ e $Y_2$, a primeira com distribuição Normal Padrão (média=0, variância=1), a segunda com distribuição *t-studdent* com 5 graus de liberdade (também padrão). Calcule, para cada uma, a probabilidade de ser menor que cada um dos valores contidos no objeto $Y$ na célula abaixo:"
   ]
  },
  {
   "cell_type": "code",
   "execution_count": null,
   "metadata": {
    "scrolled": false
   },
   "outputs": [],
   "source": [
    "Y = np.linspace(-6, 6, 200)\n",
    "# Seu código começa aqui\n",
    "\n",
    "# Parâmetros para Y1 (distribuição normal padrão)\n",
    "media = 0\n",
    "variancia = 1\n",
    "desvio_padrao = math.sqrt(variancia)\n",
    "\n",
    "# Calcula a probabilidade de Y1 ser menor que cada valor em Y\n",
    "Y1 = stats.norm.cdf(x=Y, loc=media, scale=desvio_padrao)\n",
    "\n",
    "# Parâmetros para Y2 (distribuição t-student com 5 graus de liberdade)\n",
    "graus_de_liberdade = 5\n",
    "\n",
    "# Calcula a probabilidade de Y2 ser menor que cada valor em Y\n",
    "Y2 = stats.t.cdf(x=Y, df=graus_de_liberdade)\n",
    "\n",
    "# Exibe os resultados em um DataFrame\n",
    "pd.set_option('display.max_rows', 200)\n",
    "pd.DataFrame(data={'Y':map(lambda x: f'<= {x:.2f}', Y), \n",
    "                   'Y1':map(lambda x: f'{round(x*100, 2)}%', Y1), \n",
    "                   'Y2':map(lambda x: f'{round(x*100, 2)}%', Y2)})"
   ]
  },
  {
   "cell_type": "markdown",
   "metadata": {},
   "source": [
    "4. Faça uma visualização gráfica dos dados do item anterior."
   ]
  },
  {
   "cell_type": "code",
   "execution_count": null,
   "metadata": {},
   "outputs": [],
   "source": [
    "# Configuração do estilo do gráfico\n",
    "sns.set(style='whitegrid')\n",
    "\n",
    "# Criação da figura e do eixo\n",
    "fig, ax = plt.subplots(figsize=(30, 9))\n",
    "\n",
    "# Plotagem dos dados de Y1 e Y2\n",
    "ax.plot(Y, Y1, label='Y1 - Normal')\n",
    "ax.plot(Y, Y2, label='Y2 - t(5)')\n",
    "\n",
    "# Configuração dos marcadores no eixo x e y\n",
    "ax.xaxis.set_major_locator(plt.MaxNLocator(14))\n",
    "ax.yaxis.set_major_locator(plt.MaxNLocator(11))\n",
    "\n",
    "# Formatação do eixo y em formato percentual\n",
    "ax.yaxis.set_major_formatter(mtick.PercentFormatter(xmax=1))\n",
    "\n",
    "# Adição de rótulo para o eixo x indicando que são valores de Y\n",
    "ax.set_xlabel('Valores de Y')\n",
    "\n",
    "# Adição de rótulo para o eixo y indicando que são probabilidades acumuladas\n",
    "ax.set_ylabel('Probabilidade Acumulada')\n",
    "\n",
    "# Adição da legenda\n",
    "ax.legend()\n",
    "\n",
    "# Exibição do gráfico\n",
    "plt.show()"
   ]
  },
  {
   "cell_type": "markdown",
   "metadata": {},
   "source": [
    "5. Suponha duas variáveis aleatórias $Y_1$ e $Y_2$, a primeira com distribuição Normal Padrão (média=0, variância=1), a segunda com distribuição *t-studdent* com 5 graus de liberdade (também padrão). Calcule, para cada uma, o percentil (a inversa da *CDF*) para cada um dos valores do objeto *P* abaixo:"
   ]
  },
  {
   "cell_type": "code",
   "execution_count": null,
   "metadata": {},
   "outputs": [],
   "source": [
    "P = np.linspace(0, 1, 20)\n",
    "# Seu código começa aqui\n",
    "\n",
    "# Parâmetros para Y1 (distribuição normal padrão)\n",
    "media = 0\n",
    "variancia = 1\n",
    "desvio_padrao = math.sqrt(variancia)\n",
    "\n",
    "# Calcula o percentil para Y1 correspondente a cada valor em P\n",
    "Y1 = stats.norm.ppf(q=P, loc=media, scale=desvio_padrao)\n",
    "\n",
    "# Parâmetros para Y2 (distribuição t-student com 5 graus de liberdade)\n",
    "graus_de_liberdade = 5\n",
    "\n",
    "# Calcula o percentil para Y2 correspondente a cada valor em P\n",
    "Y2 = stats.t.ppf(q=P, df=graus_de_liberdade)\n",
    "\n",
    "# Exibe o DataFrame com os resultados\n",
    "pd.DataFrame(data={'P':map(lambda x: round(x, 2), P), \n",
    "                   'Y1':map(lambda x: round(x, 2), Y1), \n",
    "                   'Y2':map(lambda x: round(x, 2), Y2)})"
   ]
  },
  {
   "cell_type": "markdown",
   "metadata": {},
   "source": [
    "6. Faça um gráfico com os dados do item anterior."
   ]
  },
  {
   "cell_type": "code",
   "execution_count": null,
   "metadata": {},
   "outputs": [],
   "source": [
    "# Criação da figura e do eixo\n",
    "fig, ax = plt.subplots(figsize=(30, 9))\n",
    "\n",
    "# Plotagem dos dados de Y1 e Y2 em função dos percentis P\n",
    "ax.plot(P, Y1, label='Y1 - Normal')\n",
    "ax.plot(P, Y2, label='Y2 - t(5)')\n",
    "\n",
    "# Configuração dos marcadores no eixo x e y\n",
    "ax.xaxis.set_major_locator(plt.MaxNLocator(20))\n",
    "ax.yaxis.set_major_locator(plt.MaxNLocator(22))\n",
    "\n",
    "# Adição de rótulo para o eixo x indicando que são percentis\n",
    "ax.set_xlabel('Percentis (P)')\n",
    "\n",
    "# Adição de rótulo para o eixo y indicando que são valores de Y1 e Y2\n",
    "ax.set_ylabel('Valores de Y1 e Y2')\n",
    "\n",
    "# Adição da legenda\n",
    "ax.legend()\n",
    "\n",
    "# Exibição do gráfico\n",
    "plt.show()"
   ]
  },
  {
   "cell_type": "markdown",
   "metadata": {},
   "source": [
    "---"
   ]
  },
  {
   "cell_type": "code",
   "execution_count": null,
   "metadata": {},
   "outputs": [],
   "source": []
  }
 ],
 "metadata": {
  "kernelspec": {
   "display_name": "Python 3 (ipykernel)",
   "language": "python",
   "name": "python3"
  },
  "language_info": {
   "codemirror_mode": {
    "name": "ipython",
    "version": 3
   },
   "file_extension": ".py",
   "mimetype": "text/x-python",
   "name": "python",
   "nbconvert_exporter": "python",
   "pygments_lexer": "ipython3",
   "version": "3.9.12"
  },
  "toc": {
   "base_numbering": 1,
   "nav_menu": {},
   "number_sections": false,
   "sideBar": true,
   "skip_h1_title": true,
   "title_cell": "Índice",
   "title_sidebar": "Conteúdo",
   "toc_cell": false,
   "toc_position": {},
   "toc_section_display": true,
   "toc_window_display": false
  },
  "varInspector": {
   "cols": {
    "lenName": 16,
    "lenType": 16,
    "lenVar": 40
   },
   "kernels_config": {
    "python": {
     "delete_cmd_postfix": "",
     "delete_cmd_prefix": "del ",
     "library": "var_list.py",
     "varRefreshCmd": "print(var_dic_list())"
    },
    "r": {
     "delete_cmd_postfix": ") ",
     "delete_cmd_prefix": "rm(",
     "library": "var_list.r",
     "varRefreshCmd": "cat(var_dic_list()) "
    }
   },
   "types_to_exclude": [
    "module",
    "function",
    "builtin_function_or_method",
    "instance",
    "_Feature"
   ],
   "window_display": false
  },
  "vp": {
   "vp_config_version": "1.0.0",
   "vp_menu_width": 273,
   "vp_note_display": false,
   "vp_note_width": 0,
   "vp_position": {
    "width": 278
   },
   "vp_section_display": false,
   "vp_signature": "VisualPython"
  }
 },
 "nbformat": 4,
 "nbformat_minor": 4
}

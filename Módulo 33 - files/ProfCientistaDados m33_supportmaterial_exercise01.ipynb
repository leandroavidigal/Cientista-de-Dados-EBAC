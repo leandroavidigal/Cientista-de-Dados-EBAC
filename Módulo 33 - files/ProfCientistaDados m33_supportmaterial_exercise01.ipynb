{
 "cells": [
  {
   "cell_type": "markdown",
   "metadata": {},
   "source": [
    "# Tarefa"
   ]
  },
  {
   "cell_type": "code",
   "execution_count": 1,
   "metadata": {},
   "outputs": [],
   "source": [
    "import numpy             as np\n",
    "import pandas            as pd\n",
    "import matplotlib.pyplot as plt\n",
    "import seaborn           as sns\n",
    "import scipy.stats       as stats\n",
    "\n",
    "from statsmodels.stats.weightstats import ttest_ind"
   ]
  },
  {
   "cell_type": "code",
   "execution_count": 2,
   "metadata": {},
   "outputs": [],
   "source": [
    "pg = sns.load_dataset('penguins')"
   ]
  },
  {
   "cell_type": "code",
   "execution_count": 3,
   "metadata": {},
   "outputs": [
    {
     "data": {
      "text/html": [
       "<div>\n",
       "<style scoped>\n",
       "    .dataframe tbody tr th:only-of-type {\n",
       "        vertical-align: middle;\n",
       "    }\n",
       "\n",
       "    .dataframe tbody tr th {\n",
       "        vertical-align: top;\n",
       "    }\n",
       "\n",
       "    .dataframe thead th {\n",
       "        text-align: right;\n",
       "    }\n",
       "</style>\n",
       "<table border=\"1\" class=\"dataframe\">\n",
       "  <thead>\n",
       "    <tr style=\"text-align: right;\">\n",
       "      <th></th>\n",
       "      <th>count</th>\n",
       "      <th>mean</th>\n",
       "      <th>std</th>\n",
       "      <th>min</th>\n",
       "      <th>25%</th>\n",
       "      <th>50%</th>\n",
       "      <th>75%</th>\n",
       "      <th>max</th>\n",
       "    </tr>\n",
       "    <tr>\n",
       "      <th>sex</th>\n",
       "      <th></th>\n",
       "      <th></th>\n",
       "      <th></th>\n",
       "      <th></th>\n",
       "      <th></th>\n",
       "      <th></th>\n",
       "      <th></th>\n",
       "      <th></th>\n",
       "    </tr>\n",
       "  </thead>\n",
       "  <tbody>\n",
       "    <tr>\n",
       "      <th>Female</th>\n",
       "      <td>165.0</td>\n",
       "      <td>3862.272727</td>\n",
       "      <td>666.172050</td>\n",
       "      <td>2700.0</td>\n",
       "      <td>3350.0</td>\n",
       "      <td>3650.0</td>\n",
       "      <td>4550.0</td>\n",
       "      <td>5200.0</td>\n",
       "    </tr>\n",
       "    <tr>\n",
       "      <th>Male</th>\n",
       "      <td>168.0</td>\n",
       "      <td>4545.684524</td>\n",
       "      <td>787.628884</td>\n",
       "      <td>3250.0</td>\n",
       "      <td>3900.0</td>\n",
       "      <td>4300.0</td>\n",
       "      <td>5312.5</td>\n",
       "      <td>6300.0</td>\n",
       "    </tr>\n",
       "  </tbody>\n",
       "</table>\n",
       "</div>"
      ],
      "text/plain": [
       "        count         mean         std     min     25%     50%     75%     max\n",
       "sex                                                                           \n",
       "Female  165.0  3862.272727  666.172050  2700.0  3350.0  3650.0  4550.0  5200.0\n",
       "Male    168.0  4545.684524  787.628884  3250.0  3900.0  4300.0  5312.5  6300.0"
      ]
     },
     "execution_count": 3,
     "metadata": {},
     "output_type": "execute_result"
    }
   ],
   "source": [
    "pg.groupby('sex')['body_mass_g'].describe()"
   ]
  },
  {
   "cell_type": "code",
   "execution_count": 4,
   "metadata": {},
   "outputs": [
    {
     "data": {
      "text/plain": [
       "<AxesSubplot:xlabel='sex', ylabel='body_mass_g'>"
      ]
     },
     "execution_count": 4,
     "metadata": {},
     "output_type": "execute_result"
    },
    {
     "data": {
      "image/png": "[encoded data removed]",
      "text/plain": [
       "<Figure size 432x288 with 1 Axes>"
      ]
     },
     "metadata": {
      "needs_background": "light"
     },
     "output_type": "display_data"
    }
   ],
   "source": [
    "sns.pointplot(data=pg, x='sex', y = 'body_mass_g')"
   ]
  },
  {
   "cell_type": "markdown",
   "metadata": {},
   "source": [
    "## 1) Diferença de peso entre machos e fêmeas\n",
    "\n",
    "Na base de pinguins, podemos ver que há diferença de peso entre machos e fêmeas. Mas será que é uma conclusão extrapolável a toda a população de pinguins? Assumindo que essa amostra é aleatória e representativa da população de pinguins, realize um teste T com 5% de significância para verificar se podemos induzir esta conclusão para a população toda."
   ]
  },
  {
   "cell_type": "code",
   "execution_count": 5,
   "metadata": {
    "scrolled": true
   },
   "outputs": [
    {
     "name": "stdout",
     "output_type": "stream",
     "text": [
      "\n",
      "Hipótese nula       H0: Peso dos machos <= Peso das fêmeas\n",
      "Hipótese alterativa H1: Peso dos machos >  Peso das fêmeas\n",
      "\n",
      "Resultados:\n",
      "\n",
      "Diferença entre as médias: 683.41\n",
      "Desvio padrão (Macho): 787.63\n",
      "Desvio padrão (Fêmea): 666.17\n",
      "Erro padrão: 79.89\n",
      "Estatística do teste: 8.55\n",
      "Graus de liberdade: 331\n",
      "Região crítica: 1.65\n",
      "P-value: 2.220446049250313e-16 (0.000000000000000222)\n",
      "\n",
      "Estatística do teste > Região crítica\n",
      "P-value < 5% \n",
      "\n",
      " Rejeitar a hipótese nula. Há evidências de que o peso dos machos é significativamente maior que o peso das fêmeas.\n"
     ]
    }
   ],
   "source": [
    "# Definição das hipóteses nula e alternativa\n",
    "print('''\n",
    "Hipótese nula       H0: Peso dos machos <= Peso das fêmeas\n",
    "Hipótese alterativa H1: Peso dos machos >  Peso das fêmeas''')\n",
    "\n",
    "# Machos\n",
    "male = pg.loc[pg.sex == 'Male', 'body_mass_g'] # Amostras de peso dos machos\n",
    "n_male = len(male) # Tamanho das amostras\n",
    "mean_male = np.mean(male) # Média\n",
    "std_male = np.std(male, ddof=1) # Desvio padrão\n",
    "\n",
    "# Fêmeas\n",
    "female = pg.loc[pg.sex == 'Female', 'body_mass_g'] # Amostras de peso das fêmeas\n",
    "n_female = len(female) # Tamanho das amostras\n",
    "mean_female = np.mean(female) # Média\n",
    "std_female = np.std(female, ddof=1) # Desvio padrão\n",
    "\n",
    "# Diferença entre as médias\n",
    "mean_difference = mean_male - mean_female\n",
    "\n",
    "# Erro padrão\n",
    "std_error = np.sqrt((std_male**2/n_male) + (std_female**2/n_female))\n",
    "\n",
    "# Estatística t\n",
    "t_statistic = mean_difference / std_error\n",
    "\n",
    "# Graus de liberdade\n",
    "df = n_male+n_female-2\n",
    "\n",
    "# Valor crítico do teste t para um intervalo de confiança de 95%\n",
    "alpha = 0.05\n",
    "t_critical = stats.t.ppf(q=1-alpha, df=df, loc=0, scale=1) # q=95%\n",
    "\n",
    "# Valor-p para o teste t unilateral à direita\n",
    "p_value = 1-stats.t.cdf(x=t_statistic, df=df)\n",
    "\n",
    "# Apresentação dos resultados\n",
    "print(f'''\n",
    "Resultados:\n",
    "\n",
    "Diferença entre as médias: {mean_difference:.2f}\n",
    "Desvio padrão (Macho): {std_male:.2f}\n",
    "Desvio padrão (Fêmea): {std_female:.2f}\n",
    "Erro padrão: {std_error:.2f}\n",
    "Estatística do teste: {t_statistic:.2f}\n",
    "Graus de liberdade: {df}\n",
    "Região crítica: {t_critical:.2f}\n",
    "P-value: {p_value} ({p_value:.18f})\n",
    "''')\n",
    "\n",
    "# Interpretação dos resultados\n",
    "if t_statistic > t_critical:\n",
    "    print(\"Estatística do teste > Região crítica\")\n",
    "else:\n",
    "    print(\"Estatística do teste < Região crítica\")\n",
    "    \n",
    "if p_value < 0.05:\n",
    "    print(\"P-value < 5% \\n\\n Rejeitar a hipótese nula. Há evidências de que o peso dos machos é significativamente maior que o peso das fêmeas.\")\n",
    "else:\n",
    "    print(\"P-value > 5% \\n\\n Não há evidências suficientes para rejeitar a hipótese nula. Não há diferença significativa no peso entre machos e fêmeas.\")"
   ]
  },
  {
   "cell_type": "code",
   "execution_count": 6,
   "metadata": {},
   "outputs": [
    {
     "name": "stdout",
     "output_type": "stream",
     "text": [
      "Resultados:\n",
      "\n",
      "test statistic: 8.554537231165760147\n",
      "pvalue of the t-test: 0.000000000000000240\n",
      "degrees of freedom used in the t-test: 323.895881028648489064\n",
      "\n",
      "Rejeitar a hipótese nula. Há evidências de que o peso dos machos é significativamente maior que o peso das fêmeas.\n"
     ]
    }
   ],
   "source": [
    "# Utilizando statsmodels.stats.weightstats.ttest_ind\n",
    "\n",
    "# Dados\n",
    "x1 = pg.loc[pg['sex'] == 'Male', 'body_mass_g']\n",
    "x2 = pg.loc[pg['sex'] == 'Female', 'body_mass_g']\n",
    "\n",
    "# Teste t\n",
    "t_statistic, p_value, degrees_of_freedom = ttest_ind(x1=x1, x2=x2, alternative='larger', usevar='unequal', value=0)\n",
    "\n",
    "# Resultados\n",
    "results = {\n",
    "    'test statistic': t_statistic,\n",
    "    'pvalue of the t-test': p_value,\n",
    "    'degrees of freedom used in the t-test': degrees_of_freedom\n",
    "}\n",
    "\n",
    "# Apresentação dos resultados\n",
    "print(\"Resultados:\\n\")\n",
    "for label, value in results.items():\n",
    "    print(f\"{label}: {value:.18f}\")\n",
    "\n",
    "# Interpretação dos resultados\n",
    "if p_value < 0.05:\n",
    "    print(\"\\nRejeitar a hipótese nula. Há evidências de que o peso dos machos é significativamente maior que o peso das fêmeas.\")\n",
    "else:\n",
    "    print(\"\\nNão há evidências suficientes para rejeitar a hipótese nula. Não há diferença significativa no peso entre machos e fêmeas.\")"
   ]
  },
  {
   "cell_type": "markdown",
   "metadata": {},
   "source": [
    "## 2) (opcional) Representação gráfica do teste\n",
    "\n",
    "Siga os passos da aula para você poder visualizar a estatística do teste, sua distribuição e a região crítica do teste."
   ]
  },
  {
   "cell_type": "code",
   "execution_count": 7,
   "metadata": {},
   "outputs": [
    {
     "data": {
      "image/png": "[encoded data removed]",
      "text/plain": [
       "<Figure size 1728x432 with 1 Axes>"
      ]
     },
     "metadata": {
      "needs_background": "light"
     },
     "output_type": "display_data"
    },
    {
     "name": "stdout",
     "output_type": "stream",
     "text": [
      "A probabilidade para valores entre 1,65 e inf é de 5,00%\n"
     ]
    }
   ],
   "source": [
    "# Representação gráfica do teste\n",
    "fig, ax = plt.subplots(figsize=(24, 6))\n",
    "\n",
    "# Parâmetros da densidade sob a hipótese nula\n",
    "mu = 0 # média\n",
    "variance = 1 # variância\n",
    "sigma = variance**.5 # desvio padrão\n",
    "\n",
    "# Valores de X e Y para plotar a densidade da distribuição t\n",
    "x = np.linspace(np.floor(mu-(t_statistic*sigma)), np.ceil(mu+(t_statistic*sigma)), 100000)\n",
    "y = stats.t.pdf(x, df)\n",
    "\n",
    "# Gráfico da densidade\n",
    "ax.plot(x, y, label='Densidade t')\n",
    "\n",
    "# Região Crítica\n",
    "low = stats.t.ppf(.95, df, loc=0, scale=1)\n",
    "high = np.inf\n",
    "\n",
    "# Área aceitável\n",
    "ax.fill_between(x, y, where=(x<low), alpha=0.25, label='Área Aceitável', color='green')\n",
    "\n",
    "# Área da região crítica\n",
    "ax.fill_between(x, y, where=(x>low)&(x<high), alpha=0.25, label='Região Crítica', color='red')\n",
    "\n",
    "# Linha vertical para o ponto crítico da linha crítica\n",
    "ax.vlines(x=t_critical, ymin=y.min(), ymax=stats.t.pdf(t_critical, df), color='r', linestyle='--', label='Ponto de Corte da Linha Crítica')\n",
    "\n",
    "# Linha vertical para a estatística do teste\n",
    "ax.vlines(x=t_statistic, ymin=y.min(), ymax=y.max(), color='black', linestyle='dotted', label='Estatística do Teste')\n",
    "\n",
    "# Ajustar a quantidade de marcas no eixo x\n",
    "ax.set_xticks(np.arange(x.min(), x.max()+.5, .5))\n",
    "\n",
    "# Legenda e rótulos\n",
    "ax.legend(loc='upper left')\n",
    "ax.set_title('Distribuição t e Teste de Hipótese')\n",
    "ax.set_xlabel('Valor da Estatística do Teste')\n",
    "ax.set_ylabel('Densidade da Distribuição t')\n",
    "\n",
    "plt.show()\n",
    "\n",
    "# Probabilidade de X pertencer à área\n",
    "prob_area = stats.t.cdf(high, df) - stats.t.cdf(low, df)\n",
    "print(f'A probabilidade para valores entre {low:.2f} e {high:.2f} é de {prob_area:.2%}'.replace('.',','))"
   ]
  },
  {
   "cell_type": "markdown",
   "metadata": {},
   "source": [
    "## 3) Considere as espécies\n",
    "\n",
    "Repita o exercício I, uma vez para cada espécie de pinguim. Qual é o *p-value* associado a cada raça?"
   ]
  },
  {
   "cell_type": "code",
   "execution_count": 8,
   "metadata": {},
   "outputs": [
    {
     "name": "stdout",
     "output_type": "stream",
     "text": [
      "\tEspécie: Adelie\n",
      "\n",
      "    Hipótese nula       H0: Peso dos machos <= Peso das fêmeas\n",
      "    Hipótese alterativa H1: Peso dos machos >  Peso das fêmeas\n",
      "\n",
      "    Resultados:\n",
      "\n",
      "    Diferença entre as médias: 674.66\n",
      "    Desvio padrão (Male): 346.81\n",
      "    Desvio padrão (Female): 269.38\n",
      "    Erro padrão: 51.40\n",
      "    Estatística do teste: 13.13\n",
      "    Graus de liberdade: 144\n",
      "    Região crítica: 1.66\n",
      "    P-value: 0.0 (0.000000000000000000)\n",
      "    \n",
      "Estatística do teste > Região crítica\n",
      "P-value < 5% \n",
      "\n",
      " Rejeitar a hipótese nula. Há evidências de que o peso dos machos da espécie Adelie é significativamente maior que o peso das fêmeas.\n",
      "\n",
      "\tEspécie: Chinstrap\n",
      "\n",
      "    Hipótese nula       H0: Peso dos machos <= Peso das fêmeas\n",
      "    Hipótese alterativa H1: Peso dos machos >  Peso das fêmeas\n",
      "\n",
      "    Resultados:\n",
      "\n",
      "    Diferença entre as médias: 411.76\n",
      "    Desvio padrão (Male): 362.14\n",
      "    Desvio padrão (Female): 285.33\n",
      "    Erro padrão: 79.07\n",
      "    Estatística do teste: 5.21\n",
      "    Graus de liberdade: 66\n",
      "    Região crítica: 1.67\n",
      "    P-value: 1.0219782358156237e-06 (0.000001021978235816)\n",
      "    \n",
      "Estatística do teste > Região crítica\n",
      "P-value < 5% \n",
      "\n",
      " Rejeitar a hipótese nula. Há evidências de que o peso dos machos da espécie Chinstrap é significativamente maior que o peso das fêmeas.\n",
      "\n",
      "\tEspécie: Gentoo\n",
      "\n",
      "    Hipótese nula       H0: Peso dos machos <= Peso das fêmeas\n",
      "    Hipótese alterativa H1: Peso dos machos >  Peso das fêmeas\n",
      "\n",
      "    Resultados:\n",
      "\n",
      "    Diferença entre as médias: 805.09\n",
      "    Desvio padrão (Male): 313.16\n",
      "    Desvio padrão (Female): 281.58\n",
      "    Erro padrão: 54.54\n",
      "    Estatística do teste: 14.76\n",
      "    Graus de liberdade: 117\n",
      "    Região crítica: 1.66\n",
      "    P-value: 0.0 (0.000000000000000000)\n",
      "    \n",
      "Estatística do teste > Região crítica\n",
      "P-value < 5% \n",
      "\n",
      " Rejeitar a hipótese nula. Há evidências de que o peso dos machos da espécie Gentoo é significativamente maior que o peso das fêmeas.\n",
      "\n"
     ]
    }
   ],
   "source": [
    "for specie in pg.species.unique():\n",
    "    # Species\n",
    "    print(f'\\tEspécie: {specie}')\n",
    "    \n",
    "    # Definição das hipóteses nula e alternativa\n",
    "    print('''\n",
    "    Hipótese nula       H0: Peso dos machos <= Peso das fêmeas\n",
    "    Hipótese alterativa H1: Peso dos machos >  Peso das fêmeas''')\n",
    "\n",
    "    # Machos por espécie\n",
    "    male = pg.loc[(pg.sex == 'Male') & (pg.species == specie), 'body_mass_g']\n",
    "    n_male = len(male) # Tamanho das amostras\n",
    "    mean_male = np.mean(male) # Média\n",
    "    std_male = np.std(male, ddof=1) # Desvio padrão\n",
    "\n",
    "    # Fêmeas por espécie\n",
    "    female = pg.loc[(pg.sex == 'Female') & (pg.species == specie), 'body_mass_g']\n",
    "    n_female = len(female) # Tamanho das amostras\n",
    "    mean_female = np.mean(female) # Média\n",
    "    std_female = np.std(female, ddof=1) # Desvio padrão\n",
    "\n",
    "    # Diferença entre as médias\n",
    "    mean_difference = mean_male - mean_female\n",
    "    \n",
    "    # Erro padrão\n",
    "    std_error = np.sqrt((std_male**2/n_male) + (std_female**2/n_female))\n",
    "    \n",
    "    # Estatística t\n",
    "    t_statistic = mean_difference / std_error\n",
    "\n",
    "    # Graus de liberdade\n",
    "    df = n_male+n_female-2\n",
    "\n",
    "    # Valor crítico do teste t para um intervalo de confiança de 95%\n",
    "    alpha = 0.05\n",
    "    t_critical = stats.t.ppf(q=1-alpha, df=df) # q=95%\n",
    "\n",
    "    # Valor-p para o teste t unilateral à direita\n",
    "    p_value = 1-stats.t.cdf(x=t_statistic, df=df)\n",
    "\n",
    "    # Apresentação dos resultados\n",
    "    print(f'''\n",
    "    Resultados:\n",
    "\n",
    "    Diferença entre as médias: {mean_difference:.2f}\n",
    "    Desvio padrão (Male): {std_male:.2f}\n",
    "    Desvio padrão (Female): {std_female:.2f}\n",
    "    Erro padrão: {std_error:.2f}\n",
    "    Estatística do teste: {t_statistic:.2f}\n",
    "    Graus de liberdade: {df}\n",
    "    Região crítica: {t_critical:.2f}\n",
    "    P-value: {p_value} ({p_value:.18f})\n",
    "    ''')\n",
    "\n",
    "    # Interpretação dos resultados\n",
    "    if t_statistic > t_critical:\n",
    "        print(\"Estatística do teste > Região crítica\")\n",
    "    else:\n",
    "        print(\"Estatística do teste < Região crítica\")\n",
    "\n",
    "    if p_value < 0.05:\n",
    "        print(f\"P-value < 5% \\n\\n Rejeitar a hipótese nula. Há evidências de que o peso dos machos da espécie {specie} é significativamente maior que o peso das fêmeas.\\n\")\n",
    "    else:\n",
    "        print(f\"P-value > 5% \\n\\n Não há evidências suficientes para rejeitar a hipótese nula. Não há diferença significativa no peso entre machos e fêmeas da espécie {specie}.\\n\")"
   ]
  },
  {
   "cell_type": "code",
   "execution_count": 9,
   "metadata": {},
   "outputs": [
    {
     "name": "stdout",
     "output_type": "stream",
     "text": [
      "\tResultados para a espécie Adelie:\n",
      "\n",
      "test statistic: 13.126285923485873752\n",
      "pvalue of the t-test: 0.000000000000000000\n",
      "degrees of freedom used in the t-test: 135.693578935303804656\n",
      "Rejeitar a hipótese nula. Há evidências de que o peso dos machos é significativamente maior que o peso das fêmeas.\n",
      "\n",
      "\tResultados para a espécie Chinstrap:\n",
      "\n",
      "test statistic: 5.207733848992660342\n",
      "pvalue of the t-test: 0.000001132215775733\n",
      "degrees of freedom used in the t-test: 62.575105077219298266\n",
      "Rejeitar a hipótese nula. Há evidências de que o peso dos machos é significativamente maior que o peso das fêmeas.\n",
      "\n",
      "\tResultados para a espécie Gentoo:\n",
      "\n",
      "test statistic: 14.761368414543289518\n",
      "pvalue of the t-test: 0.000000000000000000\n",
      "degrees of freedom used in the t-test: 116.643503775125921607\n",
      "Rejeitar a hipótese nula. Há evidências de que o peso dos machos é significativamente maior que o peso das fêmeas.\n",
      "\n"
     ]
    }
   ],
   "source": [
    "# Utilizando statsmodels.stats.weightstats.ttest_ind\n",
    "\n",
    "for specie in pg.species.unique():\n",
    "    # Dados por espécie\n",
    "    x1 = pg.loc[(pg['species'] == specie) & (pg['sex'] == 'Male'), 'body_mass_g']\n",
    "    x2 = pg.loc[(pg['species'] == specie) & (pg['sex'] == 'Female'), 'body_mass_g']\n",
    "\n",
    "    # Teste t\n",
    "    t_statistic, p_value, degrees_of_freedom = ttest_ind(x1=x1, x2=x2, alternative='larger', usevar='unequal', value=0)\n",
    "\n",
    "    # Resultados\n",
    "    results = {\n",
    "        'test statistic': t_statistic,\n",
    "        'pvalue of the t-test': p_value,\n",
    "        'degrees of freedom used in the t-test': degrees_of_freedom\n",
    "    }\n",
    "\n",
    "    # Apresentação dos resultados\n",
    "    print(f\"\\tResultados para a espécie {specie}:\\n\")\n",
    "    for label, value in results.items():\n",
    "        print(f\"{label}: {value:.18f}\")\n",
    "\n",
    "    # Interpretação dos resultados\n",
    "    if p_value < 0.05:\n",
    "        print(\"Rejeitar a hipótese nula. Há evidências de que o peso dos machos é significativamente maior que o peso das fêmeas.\\n\")\n",
    "    else:\n",
    "        print(\"Não há evidências suficientes para rejeitar a hipótese nula. Não há diferença significativa no peso entre machos e fêmeas.\\n\")"
   ]
  },
  {
   "cell_type": "code",
   "execution_count": null,
   "metadata": {},
   "outputs": [],
   "source": []
  }
 ],
 "metadata": {
  "kernelspec": {
   "display_name": "Python 3 (ipykernel)",
   "language": "python",
   "name": "python3"
  },
  "language_info": {
   "codemirror_mode": {
    "name": "ipython",
    "version": 3
   },
   "file_extension": ".py",
   "mimetype": "text/x-python",
   "name": "python",
   "nbconvert_exporter": "python",
   "pygments_lexer": "ipython3",
   "version": "3.9.12"
  },
  "toc": {
   "base_numbering": 1,
   "nav_menu": {},
   "number_sections": false,
   "sideBar": true,
   "skip_h1_title": true,
   "title_cell": "Índice",
   "title_sidebar": "Conteúdo",
   "toc_cell": false,
   "toc_position": {},
   "toc_section_display": true,
   "toc_window_display": false
  },
  "varInspector": {
   "cols": {
    "lenName": 16,
    "lenType": 16,
    "lenVar": 40
   },
   "kernels_config": {
    "python": {
     "delete_cmd_postfix": "",
     "delete_cmd_prefix": "del ",
     "library": "var_list.py",
     "varRefreshCmd": "print(var_dic_list())"
    },
    "r": {
     "delete_cmd_postfix": ") ",
     "delete_cmd_prefix": "rm(",
     "library": "var_list.r",
     "varRefreshCmd": "cat(var_dic_list()) "
    }
   },
   "types_to_exclude": [
    "module",
    "function",
    "builtin_function_or_method",
    "instance",
    "_Feature"
   ],
   "window_display": false
  }
 },
 "nbformat": 4,
 "nbformat_minor": 4
}

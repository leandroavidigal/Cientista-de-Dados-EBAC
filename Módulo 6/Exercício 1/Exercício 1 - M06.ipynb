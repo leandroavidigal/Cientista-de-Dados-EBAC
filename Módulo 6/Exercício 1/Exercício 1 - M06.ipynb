{
 "cells": [
  {
   "cell_type": "markdown",
   "metadata": {},
   "source": [
    "# Módulo 6 tarefa 1\n"
   ]
  },
  {
   "cell_type": "markdown",
   "metadata": {},
   "source": [
    "Neste trabalho, utilizaremos o Jupyter Notebook e bibliotecas como Pandas, Matplotlib e Seaborn para analisar dados do sistema de nascidos vivos do DataSUS no estado de Rondônia em 2019. Exploraremos diversas variáveis, como pontuação APGAR1 e APGAR5, sexo, gestação e estado civil da mãe, e conseguiremos obter insights interessantes sobre a saúde materno-infantil na região."
   ]
  },
  {
   "cell_type": "markdown",
   "metadata": {},
   "source": [
    "#### 1) A base 'sinasc_RO_2019.csv' contém dados do sistema de nascidos vivos do DataSUS, cujo dicionário de dados está no arquivo 'Estrutura_SINASC_para_CD.pdf'. Carregue esses arquivos."
   ]
  },
  {
   "cell_type": "code",
   "execution_count": null,
   "metadata": {},
   "outputs": [],
   "source": [
    "import pandas as pd\n",
    "import matplotlib.pyplot as plt\n",
    "import seaborn as sns"
   ]
  },
  {
   "cell_type": "code",
   "execution_count": null,
   "metadata": {},
   "outputs": [],
   "source": [
    "#carregando os arquivos\n",
    "sinasc = pd.read_csv('sinasc_RO_2019.csv', sep=',', encoding='ISO-8859-1')\n",
    "\n",
    "sinasc.head()"
   ]
  },
  {
   "cell_type": "markdown",
   "metadata": {},
   "source": [
    "####  2) Monte um gráficos de barras com as variáveis APGAR1, APGAR5, SEXO, GESTACAO, ESTCIVMAE."
   ]
  },
  {
   "cell_type": "code",
   "execution_count": null,
   "metadata": {},
   "outputs": [],
   "source": [
    "%matplotlib inline"
   ]
  },
  {
   "cell_type": "code",
   "execution_count": null,
   "metadata": {},
   "outputs": [],
   "source": [
    "# Gráfico de barras para APGAR1\n",
    "sinasc['APGAR1'].value_counts().sort_index().plot(kind='bar', color=['blue', 'green', 'red', 'purple', 'orange', 'gray'])\n",
    "plt.title('APGAR1')\n",
    "plt.xlabel(xlabel='Apgar no primeiro minuto')\n",
    "plt.ylabel('Número de nascidos vivos')\n",
    "plt.tick_params(axis='x', rotation=0)\n",
    "plt.show()"
   ]
  },
  {
   "cell_type": "markdown",
   "metadata": {},
   "source": [
    "O APGAR1 é uma medida da saúde geral do recém-nascido logo após o nascimento. Neste conjunto de dados, a maioria dos bebês teve uma pontuação APGAR1 de 9 ou 10, o que indica boa saúde geral. No entanto, houve um número significativo de bebês com uma pontuação APGAR1 mais baixa, o que sugere que esses bebês podem ter tido dificuldades imediatamente após o nascimento."
   ]
  },
  {
   "cell_type": "markdown",
   "metadata": {},
   "source": [
    "#### 3) Monte um gráfico de barras mostrando o APGAR5 médio por CONSULTAS"
   ]
  },
  {
   "cell_type": "code",
   "execution_count": null,
   "metadata": {},
   "outputs": [],
   "source": [
    "# Gráfico de barras para APGAR5\n",
    "sinasc['APGAR5'].value_counts().sort_index().plot(kind='bar', color=['blue', 'green', 'red', 'purple', 'orange', 'gray'])\n",
    "plt.title('APGAR5')\n",
    "plt.xlabel(xlabel='Apgar no quinto minuto')\n",
    "plt.ylabel('Número de nascidos vivos')\n",
    "plt.show()"
   ]
  },
  {
   "cell_type": "markdown",
   "metadata": {},
   "source": [
    "O APGAR5 é uma medida semelhante ao APGAR1, mas é realizada cinco minutos após o nascimento. Neste conjunto de dados, a maioria dos bebês teve uma pontuação APGAR5 de 10, o que sugere que a maioria dos bebês se recuperou bem das dificuldades iniciais após o nascimento. No entanto, houve um número significativo de bebês com uma pontuação APGAR5 mais baixa, o que sugere que esses bebês podem ter tido dificuldades mais duradouras após o nascimento."
   ]
  },
  {
   "cell_type": "markdown",
   "metadata": {},
   "source": [
    "####  4) Monte um painel com 4 gráficos mostrando as frequencias de SEXO, GESTACAO, ESTCIVMAE e CONSULTAS"
   ]
  },
  {
   "cell_type": "code",
   "execution_count": null,
   "metadata": {},
   "outputs": [],
   "source": [
    "# Gráfico de barras para SEXO\n",
    "sinasc['SEXO'].value_counts().plot(kind='bar', color=['blue', 'pink'])\n",
    "plt.title('SEXO')\n",
    "plt.xlabel('SEXO')\n",
    "plt.ylabel('Número de nascidos vivos')\n",
    "plt.show()"
   ]
  },
  {
   "cell_type": "markdown",
   "metadata": {},
   "source": [
    "A variável sexo indica o gênero do recém-nascido. Neste conjunto de dados, houve um número ligeiramente maior de bebês do sexo masculino do que do sexo feminino. Isso é consistente com dados demográficos globais que mostram uma ligeira predominância de homens no nascimento."
   ]
  },
  {
   "cell_type": "code",
   "execution_count": null,
   "metadata": {},
   "outputs": [],
   "source": [
    "# Gráfico de barras para GESTACAO\n",
    "sinasc['GESTACAO'].value_counts().plot(kind='bar', color=['blue', 'green', 'red', 'purple'])\n",
    "plt.title('GESTACAO')\n",
    "plt.xlabel('GESTACAO')\n",
    "plt.ylabel('Número de nascidos vivos')\n",
    "plt.show()"
   ]
  },
  {
   "cell_type": "markdown",
   "metadata": {},
   "source": [
    "A variável gestação indica a duração da gestação em semanas. Neste conjunto de dados, a maioria dos bebês nasceu com uma gestação de 37 a 41 semanas, o que é considerado um período gestacional normal. No entanto, houve um número significativo de bebês que nasceram prematuramente (com menos de 37 semanas de gestação) ou que nasceram após 41 semanas de gestação."
   ]
  },
  {
   "cell_type": "code",
   "execution_count": null,
   "metadata": {},
   "outputs": [],
   "source": [
    "# Gráfico de barras para ESTCIVMAE\n",
    "sinasc['ESTCIVMAE'].value_counts().plot(kind='bar', color=['blue', 'green', 'red', 'purple', 'orange', 'gray'])\n",
    "plt.title('ESTCIVMAE')\n",
    "plt.xlabel('ESTCIVMAE')\n",
    "plt.ylabel('Número de nascidos vivos')\n",
    "plt.show()"
   ]
  },
  {
   "cell_type": "markdown",
   "metadata": {},
   "source": [
    "A variável estado civil da mãe indica o estado civil da mãe no momento do nascimento. Neste conjunto de dados, a maioria das mães era solteira ou casada. No entanto, houve um número significativo de mães que eram viúvas, divorciadas ou separadas. Essas diferenças podem ter implicações para a saúde materna e infantil, uma vez que mães solteiras podem enfrentar desafios adicionais na criação de seus filhos."
   ]
  },
  {
   "cell_type": "markdown",
   "metadata": {},
   "source": [
    "#### Conclusão"
   ]
  },
  {
   "cell_type": "markdown",
   "metadata": {},
   "source": [
    "Este trabalho foi uma demonstração prática de como podemos utilizar bibliotecas como Pandas, Matplotlib e Seaborn para carregar, explorar e visualizar dados em Python. Utilizamos o Jupyter Notebook para executar o código e documentar o processo em um ambiente interativo.\n",
    "\n",
    "Através da análise dos dados de nascidos vivos no estado de Rondônia em 2019, pudemos obter alguns insights interessantes sobre a saúde materno-infantil na região. Por exemplo, vimos que a maioria dos bebês nasceu com uma pontuação APGAR1 e APGAR5 alta, o que sugere que a saúde geral dos recém-nascidos era boa. No entanto, também vimos que houve um número significativo de bebês que nasceram prematuramente ou que tiveram uma pontuação APGAR1 ou APGAR5 baixa, o que indica que nem todos os recém-nascidos estavam em condições ideais.\n",
    "\n",
    "Também pudemos observar diferenças interessantes entre as variáveis, como o número ligeiramente maior de bebês do sexo masculino em relação ao sexo feminino, e a predominância de mães solteiras ou casadas em relação a outros estados civis."
   ]
  }
 ],
 "metadata": {
  "kernelspec": {
   "display_name": "Python 3 (ipykernel)",
   "language": "python",
   "name": "python3"
  },
  "language_info": {
   "codemirror_mode": {
    "name": "ipython",
    "version": 3
   },
   "file_extension": ".py",
   "mimetype": "text/x-python",
   "name": "python",
   "nbconvert_exporter": "python",
   "pygments_lexer": "ipython3",
   "version": "3.9.12"
  }
 },
 "nbformat": 4,
 "nbformat_minor": 4
}

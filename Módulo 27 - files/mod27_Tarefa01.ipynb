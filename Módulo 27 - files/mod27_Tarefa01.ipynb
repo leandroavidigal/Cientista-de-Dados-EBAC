{
 "cells": [
  {
   "cell_type": "markdown",
   "metadata": {},
   "source": [
    "## **Módulo 27** | PCA | Exercício 1"
   ]
  },
  {
   "cell_type": "markdown",
   "metadata": {},
   "source": [
    "### PCA - Tarefa 01: *HAR* com PCA\n",
    "\n",
    "Vamos trabalhar com a base da demonstração feita em aula, mas vamos explorar um pouco melhor como é o desempenho da árvore variando o número de componentes principais."
   ]
  },
  {
   "cell_type": "code",
   "execution_count": 1,
   "metadata": {},
   "outputs": [],
   "source": [
    "import pandas as pd\n",
    "\n",
    "from sklearn.tree import DecisionTreeClassifier\n",
    "\n",
    "from sklearn.decomposition import PCA\n",
    "from sklearn.metrics import accuracy_score\n",
    "from sklearn.model_selection import cross_val_score\n",
    "from sklearn.model_selection import GridSearchCV"
   ]
  },
  {
   "cell_type": "code",
   "execution_count": 4,
   "metadata": {
    "scrolled": true
   },
   "outputs": [
    {
     "name": "stderr",
     "output_type": "stream",
     "text": [
      "C:\\Users\\yanks\\AppData\\Local\\Temp\\ipykernel_29020\\2403609656.py:12: FutureWarning: The squeeze argument has been deprecated and will be removed in a future version. Append .squeeze(\"columns\") to the call to squeeze.\n",
      "\n",
      "\n",
      "  features = pd.read_csv(filename_features, header=None, names=['nome_var'], squeeze=True, sep=\"#\")\n",
      "C:\\Users\\yanks\\AppData\\Local\\Temp\\ipykernel_29020\\2403609656.py:15: FutureWarning: The squeeze argument has been deprecated and will be removed in a future version. Append .squeeze(\"columns\") to the call to squeeze.\n",
      "\n",
      "\n",
      "  subject_train = pd.read_csv(filename_subtrain, header=None, names=['subject_id'], squeeze=True)\n",
      "C:\\Users\\yanks\\AppData\\Local\\Temp\\ipykernel_29020\\2403609656.py:19: FutureWarning: The squeeze argument has been deprecated and will be removed in a future version. Append .squeeze(\"columns\") to the call to squeeze.\n",
      "\n",
      "\n",
      "  subject_test = pd.read_csv(filename_subtest, header=None, names=['subject_id'], squeeze=True)\n"
     ]
    }
   ],
   "source": [
    "filename_features = \"features.txt\"\n",
    "filename_labels = \"activity_labels.txt\"\n",
    "\n",
    "filename_subtrain = \"subject_train.txt\"\n",
    "filename_xtrain = \"X_train.txt\"\n",
    "filename_ytrain = \"y_train.txt\"\n",
    "\n",
    "filename_subtest = \"subject_test.txt\"\n",
    "ffilename_xtest = \"X_test.txt\"\n",
    "filename_ytest = \"y_test.txt\"\n",
    "\n",
    "features = pd.read_csv(filename_features, header=None, names=['nome_var'], squeeze=True, sep=\"#\")\n",
    "labels = pd.read_csv(filename_labels, delim_whitespace=True, header=None, names=['cod_label', 'label'])\n",
    "\n",
    "subject_train = pd.read_csv(filename_subtrain, header=None, names=['subject_id'], squeeze=True)\n",
    "X_train = pd.read_csv(filename_xtrain, delim_whitespace=True, header=None, names=features.tolist())\n",
    "y_train = pd.read_csv(filename_ytrain, header=None, names=['cod_label'])\n",
    "\n",
    "subject_test = pd.read_csv(filename_subtest, header=None, names=['subject_id'], squeeze=True)\n",
    "X_test = pd.read_csv(ffilename_xtest, delim_whitespace=True, header=None, names=features.tolist())\n",
    "y_test = pd.read_csv(filename_ytest, header=None, names=['cod_label'])"
   ]
  },
  {
   "cell_type": "markdown",
   "metadata": {},
   "source": [
    "## Árvore de decisão\n",
    "\n",
    "Rode uma árvore de decisão com todas as variáveis, utilizando o ```ccp_alpha=0.001```. Avalie a acurácia nas bases de treinamento e teste. Avalie o tempo de processamento."
   ]
  },
  {
   "cell_type": "code",
   "execution_count": 6,
   "metadata": {},
   "outputs": [
    {
     "name": "stdout",
     "output_type": "stream",
     "text": [
      "Acurácia na base de treinamento: 0.9757889009793254\n",
      "Acurácia na base de teste: 0.8812351543942993\n",
      "\n",
      "CPU times: total: 2.55 s\n",
      "Wall time: 3.19 s\n"
     ]
    }
   ],
   "source": [
    "%%time\n",
    "# Medindo o tempo de processamento\n",
    "# A partir deste ponto, será cronometrado o tempo necessário para executar o código abaixo.\n",
    "\n",
    "# Criação do classificador de árvore de decisão com ccp_alpha=0.001\n",
    "clf = DecisionTreeClassifier(ccp_alpha=0.001)\n",
    "\n",
    "# Treinamento do classificador utilizando os dados de treinamento\n",
    "clf.fit(X_train, y_train)\n",
    "\n",
    "# Avaliação da acurácia do classificador nos dados de treinamento\n",
    "print(f'Acurácia na base de treinamento: {clf.score(X_train, y_train)}')\n",
    "# Avaliação da acurácia do classificador nos dados de teste\n",
    "print(f'Acurácia na base de teste: {clf.score(X_test, y_test)}\\n')"
   ]
  },
  {
   "cell_type": "markdown",
   "metadata": {},
   "source": [
    "## Árvore com PCA\n",
    "\n",
    "Faça uma análise de componemtes principais das variáveis originais. Utilize apenas uma componente. Faça uma árvore de decisão com esta componente como variável explicativa.\n",
    "\n",
    "- Avalie a acurácia nas bases de treinamento e teste\n",
    "- Avalie o tempo de processamento"
   ]
  },
  {
   "cell_type": "code",
   "execution_count": 7,
   "metadata": {},
   "outputs": [
    {
     "name": "stdout",
     "output_type": "stream",
     "text": [
      "Dimensões da base de treinamento: (7352, 1)\n",
      "Dimensões da base de teste: (2947, 1)\n",
      "Acurácia na base de treinamento: 0.499727965179543\n",
      "Acurácia na base de teste: 0.45707499151679676\n",
      "\n",
      "CPU times: total: 312 ms\n",
      "Wall time: 955 ms\n"
     ]
    }
   ],
   "source": [
    "%%time\n",
    "\n",
    "# Aplica o PCA com 1 componente aos dados de treinamento\n",
    "prcomp = PCA(n_components=1).fit(X_train)\n",
    "\n",
    "# Transforma os dados de treinamento e teste utilizando as componentes principais encontradas pelo PCA\n",
    "pc_treino = prcomp.transform(X_train)\n",
    "pc_teste  = prcomp.transform(X_test)\n",
    "\n",
    "# Imprime a forma dos dados de treinamento e teste após a transformação\n",
    "print(f'Dimensões da base de treinamento: {pc_treino.shape}')\n",
    "print(f'Dimensões da base de teste: {pc_teste.shape}')\n",
    "\n",
    "# Inicializa um classificador de árvore de decisão com ccp_alpha=0.001 e treina-o com os dados de treinamento transformados\n",
    "clf = DecisionTreeClassifier(ccp_alpha=0.001)\n",
    "clf.fit(pc_treino, y_train)\n",
    "\n",
    "# Calcula e imprime a acurácia do classificador nos dados de treinamento e teste\n",
    "print(f'Acurácia na base de treinamento: {clf.score(pc_treino, y_train)}')\n",
    "print(f'Acurácia na base de teste: {clf.score(pc_teste, y_test)}\\n')"
   ]
  },
  {
   "cell_type": "markdown",
   "metadata": {},
   "source": [
    "## Testando o número de componentes\n",
    "\n",
    "Com base no código acima, teste a árvore de classificação com pelo menos as seguintes possibilidades de quantidades de componentes: ```[1, 2, 5, 10, 50]```. Avalie para cada uma delas:\n",
    "\n",
    "- Acurácia nas bases de treino e teste\n",
    "- Tempo de processamento\n"
   ]
  },
  {
   "cell_type": "code",
   "execution_count": 8,
   "metadata": {},
   "outputs": [
    {
     "name": "stdout",
     "output_type": "stream",
     "text": [
      "Dimensões da base de treinamento: (7352, 1)\n",
      "Dimensões da base de teste: (2947, 1)\n",
      "Acurácia na base de treinamento: 0.499727965179543\n",
      "Acurácia na base de teste: 0.45707499151679676\n",
      "\n",
      "Dimensões da base de treinamento: (7352, 2)\n",
      "Dimensões da base de teste: (2947, 2)\n",
      "Acurácia na base de treinamento: 0.6127584330794341\n",
      "Acurácia na base de teste: 0.5846623685103495\n",
      "\n",
      "Dimensões da base de treinamento: (7352, 5)\n",
      "Dimensões da base de teste: (2947, 5)\n",
      "Acurácia na base de treinamento: 0.8460282916213275\n",
      "Acurácia na base de teste: 0.7885985748218527\n",
      "\n",
      "Dimensões da base de treinamento: (7352, 10)\n",
      "Dimensões da base de teste: (2947, 10)\n",
      "Acurácia na base de treinamento: 0.8926822633297062\n",
      "Acurácia na base de teste: 0.8238887003732609\n",
      "\n",
      "Dimensões da base de treinamento: (7352, 50)\n",
      "Dimensões da base de teste: (2947, 50)\n",
      "Acurácia na base de treinamento: 0.9171653971708379\n",
      "Acurácia na base de teste: 0.823549372242959\n",
      "\n",
      "CPU times: total: 3.98 s\n",
      "Wall time: 1.93 s\n"
     ]
    }
   ],
   "source": [
    "%%time\n",
    "\n",
    "componentes = [1, 2, 5, 10, 50]\n",
    "\n",
    "# Loop sobre os diferentes números de componentes\n",
    "for n in componentes:\n",
    "    # Executa o PCA com o número de componentes atual\n",
    "    prcomp = PCA(n_components=n).fit(X_train)\n",
    "\n",
    "    # Transforma os dados de treinamento e teste nos componentes principais\n",
    "    pc_treino = prcomp.transform(X_train)\n",
    "    pc_teste  = prcomp.transform(X_test)\n",
    "\n",
    "    # Imprime as dimensões dos dados transformados\n",
    "    print(f'Dimensões da base de treinamento: {pc_treino.shape}')\n",
    "    print(f'Dimensões da base de teste: {pc_teste.shape}')\n",
    "\n",
    "    # Cria e treina um classificador de árvore de decisão\n",
    "    clf = DecisionTreeClassifier(ccp_alpha=0.001)\n",
    "    clf.fit(pc_treino, y_train)\n",
    "\n",
    "    # Avalia a acurácia na base de treinamento e teste\n",
    "    print(f'Acurácia na base de treinamento: {clf.score(pc_treino, y_train)}')\n",
    "    print(f'Acurácia na base de teste: {clf.score(pc_teste, y_test)}\\n')"
   ]
  },
  {
   "cell_type": "markdown",
   "metadata": {},
   "source": [
    "## Conclua\n",
    "\n",
    "- O que aconteceu com a acurácia?\n",
    "- O que aconteceu com o tempo de processamento?"
   ]
  },
  {
   "cell_type": "markdown",
   "metadata": {},
   "source": [
    "Ao aplicar a técnica de Análise de Componentes Principais (PCA) para redução de dimensionalidade, notamos uma transformação significativa, especialmente no tempo de processamento. Originalmente, uma árvore de decisão processando o dataset completo, com 561 variáveis, demandava cerca de 3,19 segundos para concluir, alcançando uma acurácia de 88% na base de teste. Contudo, ao limitar o PCA a um único componente, observamos uma redução drástica no tempo de processamento para cerca de 955 ms, embora a acurácia tenha diminuído para 45%.\n",
    "\n",
    "Ao incrementar o número de componentes PCA, conseguimos melhorar progressivamente a acurácia na base de testes. Utilizando 50 componentes, a acurácia chegou a 82%, com o processamento levando aproximadamente 2 segundos para explorar todas as 5 configurações distintas de quantidade de componentes. Isso indica que é viável alcançar uma acurácia comparável à obtida com a árvore de decisão utilizando o dataset integral, mas com uma redução significativa no tempo de processamento, para menos da metade. É crucial destacar que os componentes do PCA são gerados a partir da combinação linear das variáveis originais, permitindo uma eficiente simplificação dos dados sem comprometer excessivamente a precisão do modelo."
   ]
  },
  {
   "cell_type": "code",
   "execution_count": null,
   "metadata": {},
   "outputs": [],
   "source": []
  }
 ],
 "metadata": {
  "kernelspec": {
   "display_name": "Python 3 (ipykernel)",
   "language": "python",
   "name": "python3"
  },
  "language_info": {
   "codemirror_mode": {
    "name": "ipython",
    "version": 3
   },
   "file_extension": ".py",
   "mimetype": "text/x-python",
   "name": "python",
   "nbconvert_exporter": "python",
   "pygments_lexer": "ipython3",
   "version": "3.9.12"
  },
  "toc": {
   "base_numbering": 1,
   "nav_menu": {},
   "number_sections": true,
   "sideBar": true,
   "skip_h1_title": true,
   "title_cell": "Índice",
   "title_sidebar": "Conteúdo",
   "toc_cell": false,
   "toc_position": {},
   "toc_section_display": true,
   "toc_window_display": false
  },
  "varInspector": {
   "cols": {
    "lenName": 16,
    "lenType": 16,
    "lenVar": 40
   },
   "kernels_config": {
    "python": {
     "delete_cmd_postfix": "",
     "delete_cmd_prefix": "del ",
     "library": "var_list.py",
     "varRefreshCmd": "print(var_dic_list())"
    },
    "r": {
     "delete_cmd_postfix": ") ",
     "delete_cmd_prefix": "rm(",
     "library": "var_list.r",
     "varRefreshCmd": "cat(var_dic_list()) "
    }
   },
   "types_to_exclude": [
    "module",
    "function",
    "builtin_function_or_method",
    "instance",
    "_Feature"
   ],
   "window_display": false
  }
 },
 "nbformat": 4,
 "nbformat_minor": 4
}

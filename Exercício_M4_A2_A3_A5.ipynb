{
  "cells": [
    {
      "cell_type": "markdown",
      "metadata": {
        "id": "view-in-github",
        "colab_type": "text"
      },
      "source": [
        "<a href=\"https://colab.research.google.com/github/leandroavidigal/Exercicios_EBAC/blob/main/Exerc%C3%ADcio_M4_A2_A3_A5.ipynb\" target=\"_parent\"><img src=\"https://colab.research.google.com/assets/colab-badge.svg\" alt=\"Open In Colab\"/></a>"
      ]
    },
    {
      "cell_type": "markdown",
      "source": [
        "### Exercício A02  A A05 - Módulo 4"
      ],
      "metadata": {
        "id": "-nko7mtsEXUT"
      }
    },
    {
      "cell_type": "markdown",
      "metadata": {
        "id": "quVL77t9BXk3"
      },
      "source": [
        "#### 1: Vestibular\n",
        "\n",
        "Considere que a os dados gerados na célula abaixo contêm o número de acertos de 100 alunos em um vestibular para um curso de exatas, divididas pelos respectivos assuntos. Considere que cada assunto possui um número de questões conforme a tabela abaixo:\n",
        "\n",
        "| assunto | número de questões |\n",
        "|:---:|:---:|\n",
        "| Matemática | 24 |\n",
        "| Português | 18 |\n",
        "| Geografia | 8 |\n",
        "| Inglês | 8 |\n",
        "| História | 8 |\n",
        "| Física | 12 |\n",
        "| Química | 12 |\n",
        "\n",
        "Usando os comandos de operações com DataFrames que você aprendeu na Aula 03, calcule:\n",
        "\n",
        "1. (operações com escalar) Calcule o percentual de acerto dos alunos por assunto.  \n",
        "2. (operações entre *DataFrames) Calcule o total de acertos de cada aluno.  \n",
        "3. Calcule o porcentual geral de cada aluno.  \n",
        "4. Suponha que a nota de corte para a segunda fase seja 45. Quantos alunos tiveram nota maior que 45?  "
      ]
    },
    {
      "cell_type": "markdown",
      "source": [
        "Resolução:"
      ],
      "metadata": {
        "id": "oLCF0df5KSfO"
      }
    },
    {
      "cell_type": "code",
      "execution_count": null,
      "metadata": {
        "id": "dTqfphatBXk_"
      },
      "outputs": [],
      "source": [
        "import pandas as pd\n",
        "import numpy as np"
      ]
    },
    {
      "cell_type": "code",
      "source": [
        "np.random.seed(42)"
      ],
      "metadata": {
        "id": "G6sw06bFKY0E"
      },
      "execution_count": null,
      "outputs": []
    },
    {
      "cell_type": "markdown",
      "source": [
        "**np.random.seed(42)** define a semente do gerador de números aleatórios do NumPy para 42. \n",
        "Isso garante que os números gerados aleatoriamente serão os mesmos em cada execução do código."
      ],
      "metadata": {
        "id": "nSzHQhO-Kvfi"
      }
    },
    {
      "cell_type": "code",
      "source": [
        "df_mat = pd.DataFrame(np.random.randint(24, size=(100, 1)), columns=['Qt_acertos'])\n",
        "df_por = pd.DataFrame(np.random.randint(18, size=(100, 1)), columns=['Qt_acertos'])\n",
        "df_geo = pd.DataFrame(np.random.randint(8, size=(100, 1)), columns=['Qt_acertos'])\n",
        "df_ing = pd.DataFrame(np.random.randint(8, size=(100, 1)), columns=['Qt_acertos'])\n",
        "df_his = pd.DataFrame(np.random.randint(8, size=(100, 1)), columns=['Qt_acertos'])\n",
        "df_fis = pd.DataFrame(np.random.randint(12, size=(100, 1)), columns=['Qt_acertos'])\n",
        "df_qui = pd.DataFrame(np.random.randint(12, size=(100, 1)), columns=['Qt_acertos']) "
      ],
      "metadata": {
        "id": "YDt8PGPdKpf6"
      },
      "execution_count": null,
      "outputs": []
    },
    {
      "cell_type": "markdown",
      "source": [
        "As linhas acima criam sete DataFrames diferentes (df_mat, df_por, df_geo, df_ing, df_his, df_fis e df_qui) que armazenam uma coluna de 100 números inteiros aleatórios cada. A função np.random.randint() é usada para gerar esses números aleatórios e os parâmetros size e columns são usados para definir o tamanho do DataFrame e o nome da coluna, respectivamente. Cada DataFrame representa a quantidade de acertos dos alunos em um determinado assunto."
      ],
      "metadata": {
        "id": "tWCW2eMcLSU8"
      }
    },
    {
      "cell_type": "code",
      "execution_count": null,
      "metadata": {
        "id": "k5QhEFSKBXlB",
        "colab": {
          "base_uri": "https://localhost:8080/"
        },
        "outputId": "282703e7-9719-4f25-cb6c-8cab5e272d0e"
      },
      "outputs": [
        {
          "output_type": "stream",
          "name": "stdout",
          "text": [
            "    Matemática (%)  Português (%)  Geografia (%)  Inglês (%)  História (%)  \\\n",
            "0         0.250000       0.388889          0.875       0.375         0.125   \n",
            "1         0.791667       0.555556          0.000       0.000         0.000   \n",
            "2         0.583333       0.888889          0.000       0.625         0.875   \n",
            "3         0.416667       0.388889          0.375       0.500         0.000   \n",
            "4         0.291667       0.111111          0.250       0.875         0.000   \n",
            "..             ...            ...            ...         ...           ...   \n",
            "95        0.250000       0.222222          0.875       0.125         0.500   \n",
            "96        0.333333       0.055556          0.500       0.750         0.125   \n",
            "97        0.958333       0.277778          0.000       0.250         0.500   \n",
            "98        0.000000       0.555556          0.375       0.125         0.625   \n",
            "99        0.458333       0.833333          0.000       0.125         0.750   \n",
            "\n",
            "    Física (%)  Química (%)  \n",
            "0        1.000        0.375  \n",
            "1        1.375        1.000  \n",
            "2        0.500        0.500  \n",
            "3        0.000        1.000  \n",
            "4        1.125        0.375  \n",
            "..         ...          ...  \n",
            "95       1.125        0.375  \n",
            "96       0.500        0.375  \n",
            "97       0.125        0.625  \n",
            "98       1.250        1.375  \n",
            "99       0.875        0.250  \n",
            "\n",
            "[100 rows x 7 columns]\n"
          ]
        }
      ],
      "source": [
        "# 1) \n",
        "pc_mat = df_mat / 24\n",
        "pc_por = df_por / 18\n",
        "pc_geo = df_geo /  8\n",
        "pc_ing = df_ing /  8\n",
        "pc_his = df_his /  8\n",
        "pc_fis = df_fis /  8\n",
        "pc_qui = df_qui /  8\n",
        "\n",
        "# concatenando as colunas \n",
        "df_percentual = pd.concat([pc_mat, pc_por, pc_geo, pc_ing, pc_his, pc_fis, pc_qui], axis=1)\n",
        "df_percentual.columns = ['Matemática (%)', 'Português (%)', 'Geografia (%)', 'Inglês (%)', 'História (%)', 'Física (%)', 'Química (%)']\n",
        "print(df_percentual)"
      ]
    },
    {
      "cell_type": "code",
      "execution_count": null,
      "metadata": {
        "id": "2LT1xuZBBXlB",
        "colab": {
          "base_uri": "https://localhost:8080/",
          "height": 423
        },
        "outputId": "f5b5ef6d-be08-4997-baed-7e22871b4111"
      },
      "outputs": [
        {
          "output_type": "execute_result",
          "data": {
            "text/plain": [
              "    Qt_acertos\n",
              "0           35\n",
              "1           48\n",
              "2           50\n",
              "3           32\n",
              "4           30\n",
              "..         ...\n",
              "95          34\n",
              "96          27\n",
              "97          40\n",
              "98          40\n",
              "99          42\n",
              "\n",
              "[100 rows x 1 columns]"
            ],
            "text/html": [
              "\n",
              "  <div id=\"df-4a805cdb-1e18-4c41-ab1d-ba8a30964496\">\n",
              "    <div class=\"colab-df-container\">\n",
              "      <div>\n",
              "<style scoped>\n",
              "    .dataframe tbody tr th:only-of-type {\n",
              "        vertical-align: middle;\n",
              "    }\n",
              "\n",
              "    .dataframe tbody tr th {\n",
              "        vertical-align: top;\n",
              "    }\n",
              "\n",
              "    .dataframe thead th {\n",
              "        text-align: right;\n",
              "    }\n",
              "</style>\n",
              "<table border=\"1\" class=\"dataframe\">\n",
              "  <thead>\n",
              "    <tr style=\"text-align: right;\">\n",
              "      <th></th>\n",
              "      <th>Qt_acertos</th>\n",
              "    </tr>\n",
              "  </thead>\n",
              "  <tbody>\n",
              "    <tr>\n",
              "      <th>0</th>\n",
              "      <td>35</td>\n",
              "    </tr>\n",
              "    <tr>\n",
              "      <th>1</th>\n",
              "      <td>48</td>\n",
              "    </tr>\n",
              "    <tr>\n",
              "      <th>2</th>\n",
              "      <td>50</td>\n",
              "    </tr>\n",
              "    <tr>\n",
              "      <th>3</th>\n",
              "      <td>32</td>\n",
              "    </tr>\n",
              "    <tr>\n",
              "      <th>4</th>\n",
              "      <td>30</td>\n",
              "    </tr>\n",
              "    <tr>\n",
              "      <th>...</th>\n",
              "      <td>...</td>\n",
              "    </tr>\n",
              "    <tr>\n",
              "      <th>95</th>\n",
              "      <td>34</td>\n",
              "    </tr>\n",
              "    <tr>\n",
              "      <th>96</th>\n",
              "      <td>27</td>\n",
              "    </tr>\n",
              "    <tr>\n",
              "      <th>97</th>\n",
              "      <td>40</td>\n",
              "    </tr>\n",
              "    <tr>\n",
              "      <th>98</th>\n",
              "      <td>40</td>\n",
              "    </tr>\n",
              "    <tr>\n",
              "      <th>99</th>\n",
              "      <td>42</td>\n",
              "    </tr>\n",
              "  </tbody>\n",
              "</table>\n",
              "<p>100 rows × 1 columns</p>\n",
              "</div>\n",
              "      <button class=\"colab-df-convert\" onclick=\"convertToInteractive('df-4a805cdb-1e18-4c41-ab1d-ba8a30964496')\"\n",
              "              title=\"Convert this dataframe to an interactive table.\"\n",
              "              style=\"display:none;\">\n",
              "        \n",
              "  <svg xmlns=\"http://www.w3.org/2000/svg\" height=\"24px\"viewBox=\"0 0 24 24\"\n",
              "       width=\"24px\">\n",
              "    <path d=\"M0 0h24v24H0V0z\" fill=\"none\"/>\n",
              "    <path d=\"M18.56 5.44l.94 2.06.94-2.06 2.06-.94-2.06-.94-.94-2.06-.94 2.06-2.06.94zm-11 1L8.5 8.5l.94-2.06 2.06-.94-2.06-.94L8.5 2.5l-.94 2.06-2.06.94zm10 10l.94 2.06.94-2.06 2.06-.94-2.06-.94-.94-2.06-.94 2.06-2.06.94z\"/><path d=\"M17.41 7.96l-1.37-1.37c-.4-.4-.92-.59-1.43-.59-.52 0-1.04.2-1.43.59L10.3 9.45l-7.72 7.72c-.78.78-.78 2.05 0 2.83L4 21.41c.39.39.9.59 1.41.59.51 0 1.02-.2 1.41-.59l7.78-7.78 2.81-2.81c.8-.78.8-2.07 0-2.86zM5.41 20L4 18.59l7.72-7.72 1.47 1.35L5.41 20z\"/>\n",
              "  </svg>\n",
              "      </button>\n",
              "      \n",
              "  <style>\n",
              "    .colab-df-container {\n",
              "      display:flex;\n",
              "      flex-wrap:wrap;\n",
              "      gap: 12px;\n",
              "    }\n",
              "\n",
              "    .colab-df-convert {\n",
              "      background-color: #E8F0FE;\n",
              "      border: none;\n",
              "      border-radius: 50%;\n",
              "      cursor: pointer;\n",
              "      display: none;\n",
              "      fill: #1967D2;\n",
              "      height: 32px;\n",
              "      padding: 0 0 0 0;\n",
              "      width: 32px;\n",
              "    }\n",
              "\n",
              "    .colab-df-convert:hover {\n",
              "      background-color: #E2EBFA;\n",
              "      box-shadow: 0px 1px 2px rgba(60, 64, 67, 0.3), 0px 1px 3px 1px rgba(60, 64, 67, 0.15);\n",
              "      fill: #174EA6;\n",
              "    }\n",
              "\n",
              "    [theme=dark] .colab-df-convert {\n",
              "      background-color: #3B4455;\n",
              "      fill: #D2E3FC;\n",
              "    }\n",
              "\n",
              "    [theme=dark] .colab-df-convert:hover {\n",
              "      background-color: #434B5C;\n",
              "      box-shadow: 0px 1px 3px 1px rgba(0, 0, 0, 0.15);\n",
              "      filter: drop-shadow(0px 1px 2px rgba(0, 0, 0, 0.3));\n",
              "      fill: #FFFFFF;\n",
              "    }\n",
              "  </style>\n",
              "\n",
              "      <script>\n",
              "        const buttonEl =\n",
              "          document.querySelector('#df-4a805cdb-1e18-4c41-ab1d-ba8a30964496 button.colab-df-convert');\n",
              "        buttonEl.style.display =\n",
              "          google.colab.kernel.accessAllowed ? 'block' : 'none';\n",
              "\n",
              "        async function convertToInteractive(key) {\n",
              "          const element = document.querySelector('#df-4a805cdb-1e18-4c41-ab1d-ba8a30964496');\n",
              "          const dataTable =\n",
              "            await google.colab.kernel.invokeFunction('convertToInteractive',\n",
              "                                                     [key], {});\n",
              "          if (!dataTable) return;\n",
              "\n",
              "          const docLinkHtml = 'Like what you see? Visit the ' +\n",
              "            '<a target=\"_blank\" href=https://colab.research.google.com/notebooks/data_table.ipynb>data table notebook</a>'\n",
              "            + ' to learn more about interactive tables.';\n",
              "          element.innerHTML = '';\n",
              "          dataTable['output_type'] = 'display_data';\n",
              "          await google.colab.output.renderOutput(dataTable, element);\n",
              "          const docLink = document.createElement('div');\n",
              "          docLink.innerHTML = docLinkHtml;\n",
              "          element.appendChild(docLink);\n",
              "        }\n",
              "      </script>\n",
              "    </div>\n",
              "  </div>\n",
              "  "
            ]
          },
          "metadata": {},
          "execution_count": 53
        }
      ],
      "source": [
        "# 2) \n",
        "total = df_mat + df_por + df_geo + df_ing + df_his + df_fis + df_qui\n",
        "total"
      ]
    },
    {
      "cell_type": "code",
      "execution_count": null,
      "metadata": {
        "id": "_6QCEdriBXlC",
        "outputId": "d979a310-e473-4981-d097-fe3abc972276",
        "colab": {
          "base_uri": "https://localhost:8080/",
          "height": 423
        }
      },
      "outputs": [
        {
          "output_type": "execute_result",
          "data": {
            "text/plain": [
              "    Qt_acertos\n",
              "0     0.388889\n",
              "1     0.533333\n",
              "2     0.555556\n",
              "3     0.355556\n",
              "4     0.333333\n",
              "..         ...\n",
              "95    0.377778\n",
              "96    0.300000\n",
              "97    0.444444\n",
              "98    0.444444\n",
              "99    0.466667\n",
              "\n",
              "[100 rows x 1 columns]"
            ],
            "text/html": [
              "\n",
              "  <div id=\"df-e8d03130-f237-4d81-9a02-9eadeef0316b\">\n",
              "    <div class=\"colab-df-container\">\n",
              "      <div>\n",
              "<style scoped>\n",
              "    .dataframe tbody tr th:only-of-type {\n",
              "        vertical-align: middle;\n",
              "    }\n",
              "\n",
              "    .dataframe tbody tr th {\n",
              "        vertical-align: top;\n",
              "    }\n",
              "\n",
              "    .dataframe thead th {\n",
              "        text-align: right;\n",
              "    }\n",
              "</style>\n",
              "<table border=\"1\" class=\"dataframe\">\n",
              "  <thead>\n",
              "    <tr style=\"text-align: right;\">\n",
              "      <th></th>\n",
              "      <th>Qt_acertos</th>\n",
              "    </tr>\n",
              "  </thead>\n",
              "  <tbody>\n",
              "    <tr>\n",
              "      <th>0</th>\n",
              "      <td>0.388889</td>\n",
              "    </tr>\n",
              "    <tr>\n",
              "      <th>1</th>\n",
              "      <td>0.533333</td>\n",
              "    </tr>\n",
              "    <tr>\n",
              "      <th>2</th>\n",
              "      <td>0.555556</td>\n",
              "    </tr>\n",
              "    <tr>\n",
              "      <th>3</th>\n",
              "      <td>0.355556</td>\n",
              "    </tr>\n",
              "    <tr>\n",
              "      <th>4</th>\n",
              "      <td>0.333333</td>\n",
              "    </tr>\n",
              "    <tr>\n",
              "      <th>...</th>\n",
              "      <td>...</td>\n",
              "    </tr>\n",
              "    <tr>\n",
              "      <th>95</th>\n",
              "      <td>0.377778</td>\n",
              "    </tr>\n",
              "    <tr>\n",
              "      <th>96</th>\n",
              "      <td>0.300000</td>\n",
              "    </tr>\n",
              "    <tr>\n",
              "      <th>97</th>\n",
              "      <td>0.444444</td>\n",
              "    </tr>\n",
              "    <tr>\n",
              "      <th>98</th>\n",
              "      <td>0.444444</td>\n",
              "    </tr>\n",
              "    <tr>\n",
              "      <th>99</th>\n",
              "      <td>0.466667</td>\n",
              "    </tr>\n",
              "  </tbody>\n",
              "</table>\n",
              "<p>100 rows × 1 columns</p>\n",
              "</div>\n",
              "      <button class=\"colab-df-convert\" onclick=\"convertToInteractive('df-e8d03130-f237-4d81-9a02-9eadeef0316b')\"\n",
              "              title=\"Convert this dataframe to an interactive table.\"\n",
              "              style=\"display:none;\">\n",
              "        \n",
              "  <svg xmlns=\"http://www.w3.org/2000/svg\" height=\"24px\"viewBox=\"0 0 24 24\"\n",
              "       width=\"24px\">\n",
              "    <path d=\"M0 0h24v24H0V0z\" fill=\"none\"/>\n",
              "    <path d=\"M18.56 5.44l.94 2.06.94-2.06 2.06-.94-2.06-.94-.94-2.06-.94 2.06-2.06.94zm-11 1L8.5 8.5l.94-2.06 2.06-.94-2.06-.94L8.5 2.5l-.94 2.06-2.06.94zm10 10l.94 2.06.94-2.06 2.06-.94-2.06-.94-.94-2.06-.94 2.06-2.06.94z\"/><path d=\"M17.41 7.96l-1.37-1.37c-.4-.4-.92-.59-1.43-.59-.52 0-1.04.2-1.43.59L10.3 9.45l-7.72 7.72c-.78.78-.78 2.05 0 2.83L4 21.41c.39.39.9.59 1.41.59.51 0 1.02-.2 1.41-.59l7.78-7.78 2.81-2.81c.8-.78.8-2.07 0-2.86zM5.41 20L4 18.59l7.72-7.72 1.47 1.35L5.41 20z\"/>\n",
              "  </svg>\n",
              "      </button>\n",
              "      \n",
              "  <style>\n",
              "    .colab-df-container {\n",
              "      display:flex;\n",
              "      flex-wrap:wrap;\n",
              "      gap: 12px;\n",
              "    }\n",
              "\n",
              "    .colab-df-convert {\n",
              "      background-color: #E8F0FE;\n",
              "      border: none;\n",
              "      border-radius: 50%;\n",
              "      cursor: pointer;\n",
              "      display: none;\n",
              "      fill: #1967D2;\n",
              "      height: 32px;\n",
              "      padding: 0 0 0 0;\n",
              "      width: 32px;\n",
              "    }\n",
              "\n",
              "    .colab-df-convert:hover {\n",
              "      background-color: #E2EBFA;\n",
              "      box-shadow: 0px 1px 2px rgba(60, 64, 67, 0.3), 0px 1px 3px 1px rgba(60, 64, 67, 0.15);\n",
              "      fill: #174EA6;\n",
              "    }\n",
              "\n",
              "    [theme=dark] .colab-df-convert {\n",
              "      background-color: #3B4455;\n",
              "      fill: #D2E3FC;\n",
              "    }\n",
              "\n",
              "    [theme=dark] .colab-df-convert:hover {\n",
              "      background-color: #434B5C;\n",
              "      box-shadow: 0px 1px 3px 1px rgba(0, 0, 0, 0.15);\n",
              "      filter: drop-shadow(0px 1px 2px rgba(0, 0, 0, 0.3));\n",
              "      fill: #FFFFFF;\n",
              "    }\n",
              "  </style>\n",
              "\n",
              "      <script>\n",
              "        const buttonEl =\n",
              "          document.querySelector('#df-e8d03130-f237-4d81-9a02-9eadeef0316b button.colab-df-convert');\n",
              "        buttonEl.style.display =\n",
              "          google.colab.kernel.accessAllowed ? 'block' : 'none';\n",
              "\n",
              "        async function convertToInteractive(key) {\n",
              "          const element = document.querySelector('#df-e8d03130-f237-4d81-9a02-9eadeef0316b');\n",
              "          const dataTable =\n",
              "            await google.colab.kernel.invokeFunction('convertToInteractive',\n",
              "                                                     [key], {});\n",
              "          if (!dataTable) return;\n",
              "\n",
              "          const docLinkHtml = 'Like what you see? Visit the ' +\n",
              "            '<a target=\"_blank\" href=https://colab.research.google.com/notebooks/data_table.ipynb>data table notebook</a>'\n",
              "            + ' to learn more about interactive tables.';\n",
              "          element.innerHTML = '';\n",
              "          dataTable['output_type'] = 'display_data';\n",
              "          await google.colab.output.renderOutput(dataTable, element);\n",
              "          const docLink = document.createElement('div');\n",
              "          docLink.innerHTML = docLinkHtml;\n",
              "          element.appendChild(docLink);\n",
              "        }\n",
              "      </script>\n",
              "    </div>\n",
              "  </div>\n",
              "  "
            ]
          },
          "metadata": {},
          "execution_count": 54
        }
      ],
      "source": [
        "# 3) \n",
        "total/90"
      ]
    },
    {
      "cell_type": "code",
      "execution_count": null,
      "metadata": {
        "id": "4M7e_AfIBXlD",
        "outputId": "222f25cc-0064-4782-f2bb-bcf2f035adb6",
        "colab": {
          "base_uri": "https://localhost:8080/"
        }
      },
      "outputs": [
        {
          "output_type": "execute_result",
          "data": {
            "text/plain": [
              "Qt_acertos    31\n",
              "dtype: int64"
            ]
          },
          "metadata": {},
          "execution_count": 55
        }
      ],
      "source": [
        "# 4) \n",
        "total_gt_45 = total[total['Qt_acertos'] > 45]\n",
        "total_gt_45.count()"
      ]
    },
    {
      "cell_type": "markdown",
      "metadata": {
        "id": "dfI4AgmnBXlD"
      },
      "source": [
        "#### 2) Vestibular II\n",
        "\n",
        "Ainda sobre o mesmo banco de dados:\n",
        "\n",
        "1. Neste vestibular, quem 'zera' em matemática, física ou química está desqualificado. Monte um novo *DataFrame* com os alunos desqualificados por este critério.\n",
        "2. Quantos são esses alunos?\n",
        "3. Qual a média desses alunos em história e geografia?\n",
        "4. Monte um *DataFrame* com os alunos que passaram para a segunda fase. Repare que estes alunos não podem ter sido desqualificados."
      ]
    },
    {
      "cell_type": "code",
      "execution_count": null,
      "metadata": {
        "id": "LBzSvsz4BXlE",
        "outputId": "38aa1556-c229-471e-b1fb-2d88706cab85",
        "colab": {
          "base_uri": "https://localhost:8080/",
          "height": 770
        }
      },
      "outputs": [
        {
          "output_type": "execute_result",
          "data": {
            "text/plain": [
              "    Qt_acertos\n",
              "3           32\n",
              "6           29\n",
              "10          31\n",
              "12          42\n",
              "14          31\n",
              "20          53\n",
              "25          27\n",
              "26          40\n",
              "27          50\n",
              "33          39\n",
              "35          48\n",
              "49          19\n",
              "56          39\n",
              "65          24\n",
              "66          31\n",
              "72          50\n",
              "73          37\n",
              "74          39\n",
              "84          26\n",
              "89          63\n",
              "92          40\n",
              "94          25\n",
              "98          40"
            ],
            "text/html": [
              "\n",
              "  <div id=\"df-e1e74371-5dea-4b70-88d4-4286e23161af\">\n",
              "    <div class=\"colab-df-container\">\n",
              "      <div>\n",
              "<style scoped>\n",
              "    .dataframe tbody tr th:only-of-type {\n",
              "        vertical-align: middle;\n",
              "    }\n",
              "\n",
              "    .dataframe tbody tr th {\n",
              "        vertical-align: top;\n",
              "    }\n",
              "\n",
              "    .dataframe thead th {\n",
              "        text-align: right;\n",
              "    }\n",
              "</style>\n",
              "<table border=\"1\" class=\"dataframe\">\n",
              "  <thead>\n",
              "    <tr style=\"text-align: right;\">\n",
              "      <th></th>\n",
              "      <th>Qt_acertos</th>\n",
              "    </tr>\n",
              "  </thead>\n",
              "  <tbody>\n",
              "    <tr>\n",
              "      <th>3</th>\n",
              "      <td>32</td>\n",
              "    </tr>\n",
              "    <tr>\n",
              "      <th>6</th>\n",
              "      <td>29</td>\n",
              "    </tr>\n",
              "    <tr>\n",
              "      <th>10</th>\n",
              "      <td>31</td>\n",
              "    </tr>\n",
              "    <tr>\n",
              "      <th>12</th>\n",
              "      <td>42</td>\n",
              "    </tr>\n",
              "    <tr>\n",
              "      <th>14</th>\n",
              "      <td>31</td>\n",
              "    </tr>\n",
              "    <tr>\n",
              "      <th>20</th>\n",
              "      <td>53</td>\n",
              "    </tr>\n",
              "    <tr>\n",
              "      <th>25</th>\n",
              "      <td>27</td>\n",
              "    </tr>\n",
              "    <tr>\n",
              "      <th>26</th>\n",
              "      <td>40</td>\n",
              "    </tr>\n",
              "    <tr>\n",
              "      <th>27</th>\n",
              "      <td>50</td>\n",
              "    </tr>\n",
              "    <tr>\n",
              "      <th>33</th>\n",
              "      <td>39</td>\n",
              "    </tr>\n",
              "    <tr>\n",
              "      <th>35</th>\n",
              "      <td>48</td>\n",
              "    </tr>\n",
              "    <tr>\n",
              "      <th>49</th>\n",
              "      <td>19</td>\n",
              "    </tr>\n",
              "    <tr>\n",
              "      <th>56</th>\n",
              "      <td>39</td>\n",
              "    </tr>\n",
              "    <tr>\n",
              "      <th>65</th>\n",
              "      <td>24</td>\n",
              "    </tr>\n",
              "    <tr>\n",
              "      <th>66</th>\n",
              "      <td>31</td>\n",
              "    </tr>\n",
              "    <tr>\n",
              "      <th>72</th>\n",
              "      <td>50</td>\n",
              "    </tr>\n",
              "    <tr>\n",
              "      <th>73</th>\n",
              "      <td>37</td>\n",
              "    </tr>\n",
              "    <tr>\n",
              "      <th>74</th>\n",
              "      <td>39</td>\n",
              "    </tr>\n",
              "    <tr>\n",
              "      <th>84</th>\n",
              "      <td>26</td>\n",
              "    </tr>\n",
              "    <tr>\n",
              "      <th>89</th>\n",
              "      <td>63</td>\n",
              "    </tr>\n",
              "    <tr>\n",
              "      <th>92</th>\n",
              "      <td>40</td>\n",
              "    </tr>\n",
              "    <tr>\n",
              "      <th>94</th>\n",
              "      <td>25</td>\n",
              "    </tr>\n",
              "    <tr>\n",
              "      <th>98</th>\n",
              "      <td>40</td>\n",
              "    </tr>\n",
              "  </tbody>\n",
              "</table>\n",
              "</div>\n",
              "      <button class=\"colab-df-convert\" onclick=\"convertToInteractive('df-e1e74371-5dea-4b70-88d4-4286e23161af')\"\n",
              "              title=\"Convert this dataframe to an interactive table.\"\n",
              "              style=\"display:none;\">\n",
              "        \n",
              "  <svg xmlns=\"http://www.w3.org/2000/svg\" height=\"24px\"viewBox=\"0 0 24 24\"\n",
              "       width=\"24px\">\n",
              "    <path d=\"M0 0h24v24H0V0z\" fill=\"none\"/>\n",
              "    <path d=\"M18.56 5.44l.94 2.06.94-2.06 2.06-.94-2.06-.94-.94-2.06-.94 2.06-2.06.94zm-11 1L8.5 8.5l.94-2.06 2.06-.94-2.06-.94L8.5 2.5l-.94 2.06-2.06.94zm10 10l.94 2.06.94-2.06 2.06-.94-2.06-.94-.94-2.06-.94 2.06-2.06.94z\"/><path d=\"M17.41 7.96l-1.37-1.37c-.4-.4-.92-.59-1.43-.59-.52 0-1.04.2-1.43.59L10.3 9.45l-7.72 7.72c-.78.78-.78 2.05 0 2.83L4 21.41c.39.39.9.59 1.41.59.51 0 1.02-.2 1.41-.59l7.78-7.78 2.81-2.81c.8-.78.8-2.07 0-2.86zM5.41 20L4 18.59l7.72-7.72 1.47 1.35L5.41 20z\"/>\n",
              "  </svg>\n",
              "      </button>\n",
              "      \n",
              "  <style>\n",
              "    .colab-df-container {\n",
              "      display:flex;\n",
              "      flex-wrap:wrap;\n",
              "      gap: 12px;\n",
              "    }\n",
              "\n",
              "    .colab-df-convert {\n",
              "      background-color: #E8F0FE;\n",
              "      border: none;\n",
              "      border-radius: 50%;\n",
              "      cursor: pointer;\n",
              "      display: none;\n",
              "      fill: #1967D2;\n",
              "      height: 32px;\n",
              "      padding: 0 0 0 0;\n",
              "      width: 32px;\n",
              "    }\n",
              "\n",
              "    .colab-df-convert:hover {\n",
              "      background-color: #E2EBFA;\n",
              "      box-shadow: 0px 1px 2px rgba(60, 64, 67, 0.3), 0px 1px 3px 1px rgba(60, 64, 67, 0.15);\n",
              "      fill: #174EA6;\n",
              "    }\n",
              "\n",
              "    [theme=dark] .colab-df-convert {\n",
              "      background-color: #3B4455;\n",
              "      fill: #D2E3FC;\n",
              "    }\n",
              "\n",
              "    [theme=dark] .colab-df-convert:hover {\n",
              "      background-color: #434B5C;\n",
              "      box-shadow: 0px 1px 3px 1px rgba(0, 0, 0, 0.15);\n",
              "      filter: drop-shadow(0px 1px 2px rgba(0, 0, 0, 0.3));\n",
              "      fill: #FFFFFF;\n",
              "    }\n",
              "  </style>\n",
              "\n",
              "      <script>\n",
              "        const buttonEl =\n",
              "          document.querySelector('#df-e1e74371-5dea-4b70-88d4-4286e23161af button.colab-df-convert');\n",
              "        buttonEl.style.display =\n",
              "          google.colab.kernel.accessAllowed ? 'block' : 'none';\n",
              "\n",
              "        async function convertToInteractive(key) {\n",
              "          const element = document.querySelector('#df-e1e74371-5dea-4b70-88d4-4286e23161af');\n",
              "          const dataTable =\n",
              "            await google.colab.kernel.invokeFunction('convertToInteractive',\n",
              "                                                     [key], {});\n",
              "          if (!dataTable) return;\n",
              "\n",
              "          const docLinkHtml = 'Like what you see? Visit the ' +\n",
              "            '<a target=\"_blank\" href=https://colab.research.google.com/notebooks/data_table.ipynb>data table notebook</a>'\n",
              "            + ' to learn more about interactive tables.';\n",
              "          element.innerHTML = '';\n",
              "          dataTable['output_type'] = 'display_data';\n",
              "          await google.colab.output.renderOutput(dataTable, element);\n",
              "          const docLink = document.createElement('div');\n",
              "          docLink.innerHTML = docLinkHtml;\n",
              "          element.appendChild(docLink);\n",
              "        }\n",
              "      </script>\n",
              "    </div>\n",
              "  </div>\n",
              "  "
            ]
          },
          "metadata": {},
          "execution_count": 56
        }
      ],
      "source": [
        "# 1)\n",
        "df_eliminados = total[(df_mat['Qt_acertos'] == 0) | \n",
        "                      (df_fis['Qt_acertos'] == 0) | \n",
        "                      (df_qui['Qt_acertos'] == 0)]\n",
        "\n",
        "df_eliminados"
      ]
    },
    {
      "cell_type": "code",
      "source": [
        "# concatenando as colunas \n",
        "df_percentual = pd.concat([(df_mat['Qt_acertos'] == 0), (df_fis['Qt_acertos'] == 0), (df_qui['Qt_acertos'] == 0)], axis=1)\n",
        "df_percentual.columns = ['Matemática (%)', 'Física (%)', 'Química (%)']\n",
        "print(df_percentual)"
      ],
      "metadata": {
        "colab": {
          "base_uri": "https://localhost:8080/"
        },
        "id": "5zwBMI02SlWy",
        "outputId": "3204226c-8b3d-4843-dbbf-5fb34edb9538"
      },
      "execution_count": null,
      "outputs": [
        {
          "output_type": "stream",
          "name": "stdout",
          "text": [
            "    Matemática (%)  Física (%)  Química (%)\n",
            "0            False       False        False\n",
            "1            False       False        False\n",
            "2            False       False        False\n",
            "3            False        True        False\n",
            "4            False       False        False\n",
            "..             ...         ...          ...\n",
            "95           False       False        False\n",
            "96           False       False        False\n",
            "97           False       False        False\n",
            "98            True       False        False\n",
            "99           False       False        False\n",
            "\n",
            "[100 rows x 3 columns]\n"
          ]
        }
      ]
    },
    {
      "cell_type": "markdown",
      "metadata": {
        "id": "i0xYLThzBXlF"
      },
      "source": [
        "#### 3) Vacinações no Acre\n",
        "Vamos trabalhar agora com a base de vacinações no Acre. Para facilitar a sua vida, copiamos o link do arquivo na célula abaixo.\n",
        "\n",
        "1. Quantas vacinas estão registradas nessa base?  \n",
        "2. Quantos pacientes foram vacinados? (considere um paciente para cada valor único de ```paciente_id```)  \n",
        "3. Quantos pacientes únicos tomaram a primeira dose? OBS: Há um caractere especial neste campo. Receba os valores do campo com o método ```.unique()```.   \n",
        "4. Quantos pacientes com menos de 18 anos foram vacinados?  \n",
        "5. Quantos estabelecimentos aplicaram vacina no Acre?\n",
        "\n",
        "\n",
        "**OBS:** O portal do DATASUS pode apresentar instabilidades, retornando um erro na segunda célula abaixo. Por este motivo está disponível uma base estática, que se for baixada para o seu *working directory* pode ser lida com este comando: ```df = pd.read_csv('registros de vacinacao covid ACRE.csv', sep=';')```.\n",
        "\n",
        "**OBS2:** Para saber qual é o seu working directory, rode no jupyter: ```!pwd```."
      ]
    },
    {
      "cell_type": "code",
      "source": [
        "df = pd.read_csv('registros_de_vacinacao_covid_ACRE.csv', sep=';')"
      ],
      "metadata": {
        "id": "sb4RJ82rTSBG"
      },
      "execution_count": 90,
      "outputs": []
    },
    {
      "cell_type": "code",
      "source": [
        "print(df.head())"
      ],
      "metadata": {
        "colab": {
          "base_uri": "https://localhost:8080/"
        },
        "id": "pcueQhMeWiaT",
        "outputId": "8462f4fc-5178-44b1-ec58-45e94d12d2b0"
      },
      "execution_count": 91,
      "outputs": [
        {
          "output_type": "stream",
          "name": "stdout",
          "text": [
            "                                 document_id  \\\n",
            "0  b19cd280-474c-4c22-a35d-8c06bc04a4e0-i0b0   \n",
            "1  a1acc0b6-1cf6-4c4b-adcb-06b473a0faaf-i0b0   \n",
            "2  af279a98-ba1f-47ea-8214-314a98040b0d-i0b0   \n",
            "3  4879308e-5050-46bb-b8e2-11fa5646a05c-i0b0   \n",
            "4  000e911b-e3a4-4114-a735-d1f2e6e3797f-i0b0   \n",
            "\n",
            "                                         paciente_id  paciente_idade  \\\n",
            "0  2e091c9a37d3f50d1d705fc80c6448c6fc69b44da9e936...              69   \n",
            "1  f4e17a9e5354cb45e223d85eda02fb2f76048c801675f5...              81   \n",
            "2  6734b26bccf826130ebffa66575977bbe71477b12bcf42...              69   \n",
            "3  84a341fd350c1ba7117fccbb4d2df417bc0fac0fffac37...              51   \n",
            "4  c59571e19f368d4b0cf08cd3bcabb32e5cd8baad5340f6...              65   \n",
            "\n",
            "  paciente_datanascimento paciente_enumsexobiologico  paciente_racacor_codigo  \\\n",
            "0              1951-12-28                          F                        3   \n",
            "1              1939-11-22                          M                        3   \n",
            "2              1951-08-14                          M                        4   \n",
            "3              1969-12-15                          F                        3   \n",
            "4              1955-11-21                          M                        3   \n",
            "\n",
            "  paciente_racacor_valor  paciente_endereco_coibgemunicipio  \\\n",
            "0                  PARDA                           120050.0   \n",
            "1                  PARDA                           120040.0   \n",
            "2                AMARELA                           120020.0   \n",
            "3                  PARDA                           120040.0   \n",
            "4                  PARDA                           120040.0   \n",
            "\n",
            "   paciente_endereco_copais paciente_endereco_nmmunicipio  ...   vacina_lote  \\\n",
            "0                      10.0                SENA MADUREIRA  ...       210052A   \n",
            "1                      10.0                    RIO BRANCO  ...        210110   \n",
            "2                      10.0               CRUZEIRO DO SUL  ...        210135   \n",
            "3                      10.0                    RIO BRANCO  ...     202010040   \n",
            "4                      10.0                    RIO BRANCO  ...  212VCD001ZVB   \n",
            "\n",
            "  vacina_fabricante_nome  vacina_fabricante_referencia vacina_dataaplicacao  \\\n",
            "0      FUNDACAO BUTANTAN   Organization/61189445000156           2021-03-23   \n",
            "1      FUNDACAO BUTANTAN   Organization/61189445000156           2021-04-29   \n",
            "2      FUNDACAO BUTANTAN   Organization/61189445000156           2021-04-16   \n",
            "3      FUNDACAO BUTANTAN   Organization/61189445000156           2021-02-19   \n",
            "4  FUNDACAO OSWALDO CRUZ   Organization/33781055000135           2021-03-29   \n",
            "\n",
            "   vacina_descricao_dose vacina_codigo                          vacina_nome  \\\n",
            "0                1ª Dose            86  Covid-19-Coronavac-Sinovac/Butantan   \n",
            "1                2ª Dose            86  Covid-19-Coronavac-Sinovac/Butantan   \n",
            "2                1ª Dose            86  Covid-19-Coronavac-Sinovac/Butantan   \n",
            "3                2ª Dose            86  Covid-19-Coronavac-Sinovac/Butantan   \n",
            "4                1ª Dose            85         Vacina Covid-19 - Covishield   \n",
            "\n",
            "   sistema_origem      data_importacao_rnds id_sistema_origem  \n",
            "0        Novo PNI  2021-03-25T03:27:19.000Z               NaN  \n",
            "1        Novo PNI  2021-04-30T16:03:14.000Z               NaN  \n",
            "2        Novo PNI  2021-04-16T15:54:39.000Z               NaN  \n",
            "3        Novo PNI  2021-03-10T14:40:54.000Z               NaN  \n",
            "4        Novo PNI  2021-04-03T19:44:28.000Z               NaN  \n",
            "\n",
            "[5 rows x 34 columns]\n"
          ]
        }
      ]
    },
    {
      "cell_type": "code",
      "source": [
        "# 1)\n",
        "n_vacinas = len(df)\n",
        "print(\"Número de vacinas registradas:\", n_vacinas)"
      ],
      "metadata": {
        "colab": {
          "base_uri": "https://localhost:8080/"
        },
        "id": "QgGd8i28YZtf",
        "outputId": "4bf889ff-d153-42d3-9a9e-476ed7d46f9b"
      },
      "execution_count": 92,
      "outputs": [
        {
          "output_type": "stream",
          "name": "stdout",
          "text": [
            "Número de vacinas registradas: 169071\n"
          ]
        }
      ]
    },
    {
      "cell_type": "code",
      "execution_count": 93,
      "metadata": {
        "id": "g2q-PLkSBXlH",
        "outputId": "757e8afa-0920-45c4-b003-a01d5e75803b",
        "colab": {
          "base_uri": "https://localhost:8080/"
        }
      },
      "outputs": [
        {
          "output_type": "stream",
          "name": "stdout",
          "text": [
            "Número de pacientes vacinados: 120517\n"
          ]
        }
      ],
      "source": [
        "# 2) \n",
        "n_pacientes = df['paciente_id'].nunique()\n",
        "print(\"Número de pacientes vacinados:\", n_pacientes)"
      ]
    },
    {
      "cell_type": "code",
      "source": [
        "# 3)\n",
        "primeira_dose = df['vacina_descricao_dose'].unique()[0]\n",
        "df_primeira_dose = df[df['vacina_descricao_dose'] == primeira_dose]\n",
        "df_primeira_dose['paciente_id'].nunique()"
      ],
      "metadata": {
        "colab": {
          "base_uri": "https://localhost:8080/"
        },
        "id": "b5Q_MFK3Yv7P",
        "outputId": "e75b6382-acf6-4083-a043-d4fd25fb4cfa"
      },
      "execution_count": 98,
      "outputs": [
        {
          "output_type": "execute_result",
          "data": {
            "text/plain": [
              "119713"
            ]
          },
          "metadata": {},
          "execution_count": 98
        }
      ]
    },
    {
      "cell_type": "code",
      "execution_count": 100,
      "metadata": {
        "id": "DiMdeGWZBXlH",
        "outputId": "06da29a9-3f5e-49c6-854b-c85fe771e90b",
        "colab": {
          "base_uri": "https://localhost:8080/"
        }
      },
      "outputs": [
        {
          "output_type": "stream",
          "name": "stdout",
          "text": [
            "Número de pacientes com menos de 18 anos vacinados: 47\n"
          ]
        }
      ],
      "source": [
        "# 4) \n",
        "df_menos_18 = df[df['paciente_idade'] < 18]\n",
        "pacientes_menos_18 = df_menos_18['paciente_id'].nunique()\n",
        "print(\"Número de pacientes com menos de 18 anos vacinados:\", pacientes_menos_18)"
      ]
    },
    {
      "cell_type": "code",
      "execution_count": 99,
      "metadata": {
        "id": "st0C6c5JBXlI",
        "outputId": "36cf1a3a-bd34-4996-bcc4-b890359598fc",
        "colab": {
          "base_uri": "https://localhost:8080/"
        }
      },
      "outputs": [
        {
          "output_type": "execute_result",
          "data": {
            "text/plain": [
              "47"
            ]
          },
          "metadata": {},
          "execution_count": 99
        }
      ],
      "source": [
        "# 4) \n",
        "df_menor = df[df[\"paciente_idade\"]<18]\n",
        "df_menor['paciente_id'].nunique()"
      ]
    },
    {
      "cell_type": "code",
      "source": [
        "df_menos_18 = df[df['paciente_idade'] < 18]\n",
        "pacientes_menos_18 = df_menos_18['paciente_id'].nunique()\n",
        "print(\"Número de pacientes com menos de 18 anos vacinados:\", pacientes_menos_18)"
      ],
      "metadata": {
        "colab": {
          "base_uri": "https://localhost:8080/"
        },
        "id": "EWDlWdV4c1-w",
        "outputId": "ca320501-4b2f-4674-f89d-4fc70af90e9a"
      },
      "execution_count": 103,
      "outputs": [
        {
          "output_type": "stream",
          "name": "stdout",
          "text": [
            "Número de pacientes com menos de 18 anos vacinados: 47\n"
          ]
        }
      ]
    },
    {
      "cell_type": "code",
      "execution_count": 102,
      "metadata": {
        "id": "fxqBee3oBXlI",
        "outputId": "6a3c7e1c-512e-4211-bb1d-db6616ae87ad",
        "colab": {
          "base_uri": "https://localhost:8080/"
        }
      },
      "outputs": [
        {
          "output_type": "execute_result",
          "data": {
            "text/plain": [
              "42"
            ]
          },
          "metadata": {},
          "execution_count": 102
        }
      ],
      "source": [
        "# 5)\n",
        "df['estabelecimento_razaosocial'].nunique()"
      ]
    },
    {
      "cell_type": "markdown",
      "metadata": {
        "id": "yCAeyzNKBXlJ"
      },
      "source": [
        "#### 4) Vacinação II\n",
        "Gere um *DataFrame* que contenha somente os estabelecimentos que aplicaram vcinas a menores de 18 anos. Nesse *DataFrame* devem conter somente os dados dos estabelecimentos, mais uma coluna sendo a quantidade de vacinas que o estabelecimento aplicou a menores de 18 anos.  \n",
        "  \n",
        "1. crie uma cópia do *DataFrame* original, contendo somente os registros de vacinas realizadas a menores de 18 anos.  \n",
        "2. crie uma lista das colunas desse *DataFrame* com o atributo de *DataFrame* **.columns()**  \n",
        "3. Nesse *DataFrame* faça uma contagem do campo ```vacina_categoria_nome```.\n",
        "3. a partir da lista de colunas, escolha somente aquelas que são referentes ao estabelecimento, faça uma lista com esses valores.  \n",
        "4. usando o método *.loc*, selecione somente essas variáveis  \n",
        "5. Aplique o método **.drop_duplicates** e crie uma lista com uma linha para cada estabelecimento, com os dados do estabelecimento  "
      ]
    },
    {
      "cell_type": "code",
      "source": [
        "# 1)\n",
        "df_menores = df[df['paciente_idade'] < 18]\n",
        "df_menores_por_estabelecimento = df_menores.groupby('estabelecimento_valor').agg({'vacina_categoria_nome': 'count'}).reset_index()\n",
        "df_menores_por_estabelecimento = df_menores_por_estabelecimento.rename(columns={'vacina_categoria_nome': 'qtd_vacinas'})\n",
        "print(df_menores_por_estabelecimento)"
      ],
      "metadata": {
        "colab": {
          "base_uri": "https://localhost:8080/"
        },
        "id": "ejBZcku_dPhV",
        "outputId": "9cd03d3e-40d9-4989-9fe0-04768d3ccac7"
      },
      "execution_count": 110,
      "outputs": [
        {
          "output_type": "stream",
          "name": "stdout",
          "text": [
            "    estabelecimento_valor  qtd_vacinas\n",
            "0                 2000040            2\n",
            "1                 2001314            1\n",
            "2                 2001748            8\n",
            "3                 3323307            1\n",
            "4                 5336171            1\n",
            "5                 6159087            3\n",
            "6                 6308740            2\n",
            "7                 6428940            3\n",
            "8                 6430201            4\n",
            "9                 6612385            2\n",
            "10                6697151            1\n",
            "11                6748759            6\n",
            "12                6917291            4\n",
            "13                6917682            1\n",
            "14                6955525            3\n",
            "15                7123043            1\n",
            "16                7625855            9\n",
            "17                9648968            2\n"
          ]
        }
      ]
    },
    {
      "cell_type": "code",
      "execution_count": 111,
      "metadata": {
        "id": "CBegPE_hBXlK",
        "outputId": "aeed4982-4718-457d-98b2-0f0c69ce9f1b",
        "colab": {
          "base_uri": "https://localhost:8080/"
        }
      },
      "outputs": [
        {
          "output_type": "execute_result",
          "data": {
            "text/plain": [
              "Index(['document_id', 'paciente_id', 'paciente_idade',\n",
              "       'paciente_datanascimento', 'paciente_enumsexobiologico',\n",
              "       'paciente_racacor_codigo', 'paciente_racacor_valor',\n",
              "       'paciente_endereco_coibgemunicipio', 'paciente_endereco_copais',\n",
              "       'paciente_endereco_nmmunicipio', 'paciente_endereco_nmpais',\n",
              "       'paciente_endereco_uf', 'paciente_endereco_cep',\n",
              "       'paciente_nacionalidade_enumnacionalidade', 'estabelecimento_valor',\n",
              "       'estabelecimento_razaosocial', 'estalecimento_nofantasia',\n",
              "       'estabelecimento_municipio_codigo', 'estabelecimento_municipio_nome',\n",
              "       'estabelecimento_uf', 'vacina_grupoatendimento_codigo',\n",
              "       'vacina_grupoatendimento_nome', 'vacina_categoria_codigo',\n",
              "       'vacina_categoria_nome', 'vacina_lote', 'vacina_fabricante_nome',\n",
              "       'vacina_fabricante_referencia', 'vacina_dataaplicacao',\n",
              "       'vacina_descricao_dose', 'vacina_codigo', 'vacina_nome',\n",
              "       'sistema_origem', 'data_importacao_rnds', 'id_sistema_origem'],\n",
              "      dtype='object')"
            ]
          },
          "metadata": {},
          "execution_count": 111
        }
      ],
      "source": [
        "# 2) \n",
        "df_menores.columns"
      ]
    },
    {
      "cell_type": "code",
      "execution_count": 112,
      "metadata": {
        "id": "_UsJJwwSBXlK",
        "outputId": "a61c0330-c5dc-4de1-f628-cc85b947a59f",
        "colab": {
          "base_uri": "https://localhost:8080/"
        }
      },
      "outputs": [
        {
          "output_type": "execute_result",
          "data": {
            "text/plain": [
              "Povos Indígenas                     33\n",
              "Trabalhadores de Saúde               9\n",
              "Povos e Comunidades Tradicionais     9\n",
              "Comorbidades                         2\n",
              "Faixa Etária                         1\n",
              "Name: vacina_categoria_nome, dtype: int64"
            ]
          },
          "metadata": {},
          "execution_count": 112
        }
      ],
      "source": [
        "# 3)\n",
        "df_menores['vacina_categoria_nome'].value_counts()"
      ]
    },
    {
      "cell_type": "code",
      "source": [
        "# 4)\n",
        "cols_estabelecimento = ['estabelecimento_valor', 'estabelecimento_municipio_nome', 'estabelecimento_uf']\n",
        "df_estabelecimentos = df_menores.loc[:, cols_estabelecimento]\n",
        "print(df_estabelecimentos)\n"
      ],
      "metadata": {
        "colab": {
          "base_uri": "https://localhost:8080/"
        },
        "id": "JacLZuzadxms",
        "outputId": "cbe0280a-3b2e-46e1-ba1f-6c5a248be91d"
      },
      "execution_count": 126,
      "outputs": [
        {
          "output_type": "stream",
          "name": "stdout",
          "text": [
            "        estabelecimento_valor estabelecimento_municipio_nome  \\\n",
            "1567                  2001314                 EPITACIOLANDIA   \n",
            "6250                  6917291                     RIO BRANCO   \n",
            "9569                  6159087                CRUZEIRO DO SUL   \n",
            "11338                 2000040                          FEIJO   \n",
            "15144                 7625855           MARECHAL THAUMATURGO   \n",
            "17153                 6748759                          FEIJO   \n",
            "18361                 6308740                   PORTO WALTER   \n",
            "18608                 2001748                   PORTO WALTER   \n",
            "20204                 6917682                CRUZEIRO DO SUL   \n",
            "20759                 6917291                     RIO BRANCO   \n",
            "21119                 6428940                   ASSIS BRASIL   \n",
            "27860                 7625855           MARECHAL THAUMATURGO   \n",
            "29127                 6612385                       TARAUACA   \n",
            "31200                 7625855           MARECHAL THAUMATURGO   \n",
            "35654                 6159087                CRUZEIRO DO SUL   \n",
            "38412                 6159087                CRUZEIRO DO SUL   \n",
            "51872                 2000040                          FEIJO   \n",
            "57405                 9648968                  MANOEL URBANO   \n",
            "61131                 6430201                         JORDAO   \n",
            "62742                 6917291                     RIO BRANCO   \n",
            "66922                 7625855           MARECHAL THAUMATURGO   \n",
            "68290                 6955525                    MANCIO LIMA   \n",
            "69882                 5336171                CRUZEIRO DO SUL   \n",
            "70881                 6697151                 SENA MADUREIRA   \n",
            "75368                 6748759                          FEIJO   \n",
            "78289                 6430201                         JORDAO   \n",
            "79146                 2001748                   PORTO WALTER   \n",
            "81424                 6955525                    MANCIO LIMA   \n",
            "84331                 2001748                   PORTO WALTER   \n",
            "88619                 6430201                         JORDAO   \n",
            "89601                 7625855           MARECHAL THAUMATURGO   \n",
            "94858                 2001748                   PORTO WALTER   \n",
            "95916                 7625855           MARECHAL THAUMATURGO   \n",
            "101402                3323307                     PORTO ACRE   \n",
            "104776                2001748                   PORTO WALTER   \n",
            "111242                6430201                         JORDAO   \n",
            "116510                6955525                    MANCIO LIMA   \n",
            "119906                7625855           MARECHAL THAUMATURGO   \n",
            "122656                7625855           MARECHAL THAUMATURGO   \n",
            "123769                6428940                   ASSIS BRASIL   \n",
            "124696                6308740                   PORTO WALTER   \n",
            "135392                2000040                          FEIJO   \n",
            "136851                6748759                          FEIJO   \n",
            "139074                9648968                  MANOEL URBANO   \n",
            "140895                7123043                         JORDAO   \n",
            "142027                6428940                   ASSIS BRASIL   \n",
            "149043                2001748                   PORTO WALTER   \n",
            "149795                6748759                          FEIJO   \n",
            "152218                6748759                          FEIJO   \n",
            "153347                6748759                          FEIJO   \n",
            "155238                7625855           MARECHAL THAUMATURGO   \n",
            "161227                6612385                       TARAUACA   \n",
            "163168                6917291                     RIO BRANCO   \n",
            "164046                2001748                   PORTO WALTER   \n",
            "164449                2001748                   PORTO WALTER   \n",
            "\n",
            "       estabelecimento_uf  \n",
            "1567                   AC  \n",
            "6250                   AC  \n",
            "9569                   AC  \n",
            "11338                  AC  \n",
            "15144                  AC  \n",
            "17153                  AC  \n",
            "18361                  AC  \n",
            "18608                  AC  \n",
            "20204                  AC  \n",
            "20759                  AC  \n",
            "21119                  AC  \n",
            "27860                  AC  \n",
            "29127                  AC  \n",
            "31200                  AC  \n",
            "35654                  AC  \n",
            "38412                  AC  \n",
            "51872                  AC  \n",
            "57405                  AC  \n",
            "61131                  AC  \n",
            "62742                  AC  \n",
            "66922                  AC  \n",
            "68290                  AC  \n",
            "69882                  AC  \n",
            "70881                  AC  \n",
            "75368                  AC  \n",
            "78289                  AC  \n",
            "79146                  AC  \n",
            "81424                  AC  \n",
            "84331                  AC  \n",
            "88619                  AC  \n",
            "89601                  AC  \n",
            "94858                  AC  \n",
            "95916                  AC  \n",
            "101402                 AC  \n",
            "104776                 AC  \n",
            "111242                 AC  \n",
            "116510                 AC  \n",
            "119906                 AC  \n",
            "122656                 AC  \n",
            "123769                 AC  \n",
            "124696                 AC  \n",
            "135392                 AC  \n",
            "136851                 AC  \n",
            "139074                 AC  \n",
            "140895                 AC  \n",
            "142027                 AC  \n",
            "149043                 AC  \n",
            "149795                 AC  \n",
            "152218                 AC  \n",
            "153347                 AC  \n",
            "155238                 AC  \n",
            "161227                 AC  \n",
            "163168                 AC  \n",
            "164046                 AC  \n",
            "164449                 AC  \n"
          ]
        }
      ]
    },
    {
      "cell_type": "code",
      "source": [
        "df_estabelecimentos.drop_duplicates(inplace=True)\n",
        "print(df_estabelecimentos)"
      ],
      "metadata": {
        "colab": {
          "base_uri": "https://localhost:8080/"
        },
        "id": "mP6LdN5cd9Dg",
        "outputId": "33e42871-9cfc-4e1a-8337-b59ae6844e13"
      },
      "execution_count": 121,
      "outputs": [
        {
          "output_type": "stream",
          "name": "stdout",
          "text": [
            "        estabelecimento_valor estabelecimento_municipio_nome  \\\n",
            "1567                  2001314                 EPITACIOLANDIA   \n",
            "6250                  6917291                     RIO BRANCO   \n",
            "9569                  6159087                CRUZEIRO DO SUL   \n",
            "11338                 2000040                          FEIJO   \n",
            "15144                 7625855           MARECHAL THAUMATURGO   \n",
            "17153                 6748759                          FEIJO   \n",
            "18361                 6308740                   PORTO WALTER   \n",
            "18608                 2001748                   PORTO WALTER   \n",
            "20204                 6917682                CRUZEIRO DO SUL   \n",
            "21119                 6428940                   ASSIS BRASIL   \n",
            "29127                 6612385                       TARAUACA   \n",
            "57405                 9648968                  MANOEL URBANO   \n",
            "61131                 6430201                         JORDAO   \n",
            "68290                 6955525                    MANCIO LIMA   \n",
            "69882                 5336171                CRUZEIRO DO SUL   \n",
            "70881                 6697151                 SENA MADUREIRA   \n",
            "101402                3323307                     PORTO ACRE   \n",
            "140895                7123043                         JORDAO   \n",
            "\n",
            "       estabelecimento_uf  \n",
            "1567                   AC  \n",
            "6250                   AC  \n",
            "9569                   AC  \n",
            "11338                  AC  \n",
            "15144                  AC  \n",
            "17153                  AC  \n",
            "18361                  AC  \n",
            "18608                  AC  \n",
            "20204                  AC  \n",
            "21119                  AC  \n",
            "29127                  AC  \n",
            "57405                  AC  \n",
            "61131                  AC  \n",
            "68290                  AC  \n",
            "69882                  AC  \n",
            "70881                  AC  \n",
            "101402                 AC  \n",
            "140895                 AC  \n"
          ]
        }
      ]
    }
  ],
  "metadata": {
    "kernelspec": {
      "display_name": "Python 3",
      "language": "python",
      "name": "python3"
    },
    "language_info": {
      "codemirror_mode": {
        "name": "ipython",
        "version": 3
      },
      "file_extension": ".py",
      "mimetype": "text/x-python",
      "name": "python",
      "nbconvert_exporter": "python",
      "pygments_lexer": "ipython3",
      "version": "3.8.5"
    },
    "toc": {
      "base_numbering": 1,
      "nav_menu": {},
      "number_sections": false,
      "sideBar": true,
      "skip_h1_title": true,
      "title_cell": "Índice",
      "title_sidebar": "Conteúdo",
      "toc_cell": false,
      "toc_position": {},
      "toc_section_display": true,
      "toc_window_display": false
    },
    "varInspector": {
      "cols": {
        "lenName": 16,
        "lenType": 16,
        "lenVar": 40
      },
      "kernels_config": {
        "python": {
          "delete_cmd_postfix": "",
          "delete_cmd_prefix": "del ",
          "library": "var_list.py",
          "varRefreshCmd": "print(var_dic_list())"
        },
        "r": {
          "delete_cmd_postfix": ") ",
          "delete_cmd_prefix": "rm(",
          "library": "var_list.r",
          "varRefreshCmd": "cat(var_dic_list()) "
        }
      },
      "types_to_exclude": [
        "module",
        "function",
        "builtin_function_or_method",
        "instance",
        "_Feature"
      ],
      "window_display": false
    },
    "colab": {
      "provenance": [],
      "include_colab_link": true
    }
  },
  "nbformat": 4,
  "nbformat_minor": 0
}